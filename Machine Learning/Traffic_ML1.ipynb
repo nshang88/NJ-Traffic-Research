{
 "cells": [
  {
   "cell_type": "code",
   "execution_count": 1,
   "metadata": {},
   "outputs": [],
   "source": [
    "import pandas as pd\n",
    "import numpy as np\n",
    "import matplotlib.pyplot as plt\n",
    "import seaborn as sns\n",
    "from imblearn.over_sampling import SMOTE\n",
    "from sklearn.metrics import confusion_matrix"
   ]
  },
  {
   "cell_type": "code",
   "execution_count": 2,
   "metadata": {},
   "outputs": [
    {
     "data": {
      "text/plain": [
       "Datetime                      object\n",
       "Number                        object\n",
       "Municipality                  object\n",
       "Date                          object\n",
       "Day of Week                   object\n",
       "Severity                      object\n",
       "Intersection                  object\n",
       "Crash Type                     int64\n",
       "Total Vehicles               float64\n",
       "Location                      object\n",
       "Road Horizontal Alignment    float64\n",
       "Road Grade                   float64\n",
       "Road Surface Type            float64\n",
       "Surface Condition            float64\n",
       "Light Condition              float64\n",
       "Environment Condition        float64\n",
       "Road Divided By              float64\n",
       "Posted Speed                 float64\n",
       "Month                          int64\n",
       "dtype: object"
      ]
     },
     "execution_count": 2,
     "metadata": {},
     "output_type": "execute_result"
    }
   ],
   "source": [
    "df=pd.read_csv('Camden_accidents/Camden_accidents2.csv')\n",
    "df.dtypes"
   ]
  },
  {
   "cell_type": "code",
   "execution_count": 3,
   "metadata": {},
   "outputs": [],
   "source": [
    "df.loc[df.Severity=='F', 'Severity']='I'"
   ]
  },
  {
   "cell_type": "code",
   "execution_count": 4,
   "metadata": {},
   "outputs": [],
   "source": [
    "df.drop(columns=['Datetime', 'Date', 'Day of Week', 'Location', 'Road Horizontal Alignment', 'Road Grade', 'Road Surface Type',\n",
    "                'Surface Condition', 'Light Condition', 'Road Divided By', 'Posted Speed', 'Month', 'Environment Condition'], inplace=True)"
   ]
  },
  {
   "cell_type": "code",
   "execution_count": 5,
   "metadata": {},
   "outputs": [
    {
     "data": {
      "text/html": [
       "<div>\n",
       "<style scoped>\n",
       "    .dataframe tbody tr th:only-of-type {\n",
       "        vertical-align: middle;\n",
       "    }\n",
       "\n",
       "    .dataframe tbody tr th {\n",
       "        vertical-align: top;\n",
       "    }\n",
       "\n",
       "    .dataframe thead th {\n",
       "        text-align: right;\n",
       "    }\n",
       "</style>\n",
       "<table border=\"1\" class=\"dataframe\">\n",
       "  <thead>\n",
       "    <tr style=\"text-align: right;\">\n",
       "      <th></th>\n",
       "      <th>Number</th>\n",
       "      <th>Municipality</th>\n",
       "      <th>Severity</th>\n",
       "      <th>Intersection</th>\n",
       "      <th>Crash Type</th>\n",
       "      <th>Total Vehicles</th>\n",
       "    </tr>\n",
       "  </thead>\n",
       "  <tbody>\n",
       "    <tr>\n",
       "      <th>0</th>\n",
       "      <td>201704122017-000003</td>\n",
       "      <td>Collingswood Boro</td>\n",
       "      <td>I</td>\n",
       "      <td>I</td>\n",
       "      <td>11</td>\n",
       "      <td>1.0</td>\n",
       "    </tr>\n",
       "    <tr>\n",
       "      <th>1</th>\n",
       "      <td>2017040917-000034</td>\n",
       "      <td>Cherry Hill Twp</td>\n",
       "      <td>I</td>\n",
       "      <td>B</td>\n",
       "      <td>13</td>\n",
       "      <td>1.0</td>\n",
       "    </tr>\n",
       "    <tr>\n",
       "      <th>2</th>\n",
       "      <td>20170436A160-2017-00002A</td>\n",
       "      <td>Winslow Twp</td>\n",
       "      <td>P</td>\n",
       "      <td>B</td>\n",
       "      <td>11</td>\n",
       "      <td>1.0</td>\n",
       "    </tr>\n",
       "    <tr>\n",
       "      <th>3</th>\n",
       "      <td>201704152017-000019</td>\n",
       "      <td>Gloucester Twp</td>\n",
       "      <td>P</td>\n",
       "      <td>I</td>\n",
       "      <td>6</td>\n",
       "      <td>2.0</td>\n",
       "    </tr>\n",
       "    <tr>\n",
       "      <th>4</th>\n",
       "      <td>2017040917-000064</td>\n",
       "      <td>Cherry Hill Twp</td>\n",
       "      <td>I</td>\n",
       "      <td>B</td>\n",
       "      <td>1</td>\n",
       "      <td>2.0</td>\n",
       "    </tr>\n",
       "  </tbody>\n",
       "</table>\n",
       "</div>"
      ],
      "text/plain": [
       "                            Number       Municipality Severity Intersection  \\\n",
       "0  201704122017-000003              Collingswood Boro        I            I   \n",
       "1  2017040917-000034                  Cherry Hill Twp        I            B   \n",
       "2  20170436A160-2017-00002A               Winslow Twp        P            B   \n",
       "3  201704152017-000019                 Gloucester Twp        P            I   \n",
       "4  2017040917-000064                  Cherry Hill Twp        I            B   \n",
       "\n",
       "   Crash Type  Total Vehicles  \n",
       "0          11             1.0  \n",
       "1          13             1.0  \n",
       "2          11             1.0  \n",
       "3           6             2.0  \n",
       "4           1             2.0  "
      ]
     },
     "execution_count": 5,
     "metadata": {},
     "output_type": "execute_result"
    }
   ],
   "source": [
    "df.head()"
   ]
  },
  {
   "cell_type": "code",
   "execution_count": 6,
   "metadata": {},
   "outputs": [
    {
     "data": {
      "text/html": [
       "<div>\n",
       "<style scoped>\n",
       "    .dataframe tbody tr th:only-of-type {\n",
       "        vertical-align: middle;\n",
       "    }\n",
       "\n",
       "    .dataframe tbody tr th {\n",
       "        vertical-align: top;\n",
       "    }\n",
       "\n",
       "    .dataframe thead th {\n",
       "        text-align: right;\n",
       "    }\n",
       "</style>\n",
       "<table border=\"1\" class=\"dataframe\">\n",
       "  <thead>\n",
       "    <tr style=\"text-align: right;\">\n",
       "      <th></th>\n",
       "      <th>Unnamed: 0</th>\n",
       "      <th>Number</th>\n",
       "      <th>Initial Impact Location_x</th>\n",
       "      <th>Principal Damage Location_x</th>\n",
       "      <th>Extent of Damage_x</th>\n",
       "      <th>Vehicle Type_x</th>\n",
       "      <th>Vehicle Use_x</th>\n",
       "      <th>V_Age_x</th>\n",
       "      <th>Initial Impact Location_y</th>\n",
       "      <th>Principal Damage Location_y</th>\n",
       "      <th>Extent of Damage_y</th>\n",
       "      <th>Vehicle Type_y</th>\n",
       "      <th>Vehicle Use_y</th>\n",
       "      <th>V_Age_y</th>\n",
       "    </tr>\n",
       "  </thead>\n",
       "  <tbody>\n",
       "    <tr>\n",
       "      <th>0</th>\n",
       "      <td>0</td>\n",
       "      <td>2017040217-036-A</td>\n",
       "      <td>6.0</td>\n",
       "      <td>6.0</td>\n",
       "      <td>2</td>\n",
       "      <td>1.0</td>\n",
       "      <td>1.0</td>\n",
       "      <td>10.0</td>\n",
       "      <td>6.0</td>\n",
       "      <td>6.0</td>\n",
       "      <td>2</td>\n",
       "      <td>1.0</td>\n",
       "      <td>1.0</td>\n",
       "      <td>10.0</td>\n",
       "    </tr>\n",
       "    <tr>\n",
       "      <th>1</th>\n",
       "      <td>1</td>\n",
       "      <td>2017040217-067-A</td>\n",
       "      <td>3.0</td>\n",
       "      <td>4.0</td>\n",
       "      <td>4</td>\n",
       "      <td>4.0</td>\n",
       "      <td>1.0</td>\n",
       "      <td>6.0</td>\n",
       "      <td>12.0</td>\n",
       "      <td>12.0</td>\n",
       "      <td>4</td>\n",
       "      <td>1.0</td>\n",
       "      <td>1.0</td>\n",
       "      <td>12.0</td>\n",
       "    </tr>\n",
       "    <tr>\n",
       "      <th>2</th>\n",
       "      <td>2</td>\n",
       "      <td>2017040217-161-A</td>\n",
       "      <td>12.0</td>\n",
       "      <td>12.0</td>\n",
       "      <td>2</td>\n",
       "      <td>1.0</td>\n",
       "      <td>1.0</td>\n",
       "      <td>1.0</td>\n",
       "      <td>6.0</td>\n",
       "      <td>3.0</td>\n",
       "      <td>4</td>\n",
       "      <td>8.0</td>\n",
       "      <td>1.0</td>\n",
       "      <td>10.0</td>\n",
       "    </tr>\n",
       "    <tr>\n",
       "      <th>3</th>\n",
       "      <td>3</td>\n",
       "      <td>2017040217-194-A</td>\n",
       "      <td>2.0</td>\n",
       "      <td>2.0</td>\n",
       "      <td>3</td>\n",
       "      <td>1.0</td>\n",
       "      <td>1.0</td>\n",
       "      <td>16.0</td>\n",
       "      <td>7.0</td>\n",
       "      <td>17.0</td>\n",
       "      <td>2</td>\n",
       "      <td>31.0</td>\n",
       "      <td>1.0</td>\n",
       "      <td>9.0</td>\n",
       "    </tr>\n",
       "    <tr>\n",
       "      <th>4</th>\n",
       "      <td>4</td>\n",
       "      <td>2017040217-280-A</td>\n",
       "      <td>12.0</td>\n",
       "      <td>12.0</td>\n",
       "      <td>4</td>\n",
       "      <td>1.0</td>\n",
       "      <td>2.0</td>\n",
       "      <td>8.0</td>\n",
       "      <td>6.0</td>\n",
       "      <td>6.0</td>\n",
       "      <td>2</td>\n",
       "      <td>5.0</td>\n",
       "      <td>1.0</td>\n",
       "      <td>17.0</td>\n",
       "    </tr>\n",
       "  </tbody>\n",
       "</table>\n",
       "</div>"
      ],
      "text/plain": [
       "   Unnamed: 0                           Number  Initial Impact Location_x  \\\n",
       "0           0  2017040217-036-A                                       6.0   \n",
       "1           1  2017040217-067-A                                       3.0   \n",
       "2           2  2017040217-161-A                                      12.0   \n",
       "3           3  2017040217-194-A                                       2.0   \n",
       "4           4  2017040217-280-A                                      12.0   \n",
       "\n",
       "   Principal Damage Location_x  Extent of Damage_x  Vehicle Type_x  \\\n",
       "0                          6.0                   2             1.0   \n",
       "1                          4.0                   4             4.0   \n",
       "2                         12.0                   2             1.0   \n",
       "3                          2.0                   3             1.0   \n",
       "4                         12.0                   4             1.0   \n",
       "\n",
       "   Vehicle Use_x  V_Age_x  Initial Impact Location_y  \\\n",
       "0            1.0     10.0                        6.0   \n",
       "1            1.0      6.0                       12.0   \n",
       "2            1.0      1.0                        6.0   \n",
       "3            1.0     16.0                        7.0   \n",
       "4            2.0      8.0                        6.0   \n",
       "\n",
       "   Principal Damage Location_y  Extent of Damage_y  Vehicle Type_y  \\\n",
       "0                          6.0                   2             1.0   \n",
       "1                         12.0                   4             1.0   \n",
       "2                          3.0                   4             8.0   \n",
       "3                         17.0                   2            31.0   \n",
       "4                          6.0                   2             5.0   \n",
       "\n",
       "   Vehicle Use_y  V_Age_y  \n",
       "0            1.0     10.0  \n",
       "1            1.0     12.0  \n",
       "2            1.0     10.0  \n",
       "3            1.0      9.0  \n",
       "4            1.0     17.0  "
      ]
     },
     "execution_count": 6,
     "metadata": {},
     "output_type": "execute_result"
    }
   ],
   "source": [
    "df2=pd.read_csv('Camden_accidents/Camden_V3.csv')\n",
    "df2.head()"
   ]
  },
  {
   "cell_type": "code",
   "execution_count": 7,
   "metadata": {},
   "outputs": [],
   "source": [
    "df2.drop(columns=['Unnamed: 0', 'Vehicle Use_x', 'V_Age_x', 'Vehicle Use_y', 'V_Age_y'], inplace=True)"
   ]
  },
  {
   "cell_type": "code",
   "execution_count": 8,
   "metadata": {},
   "outputs": [
    {
     "data": {
      "text/html": [
       "<div>\n",
       "<style scoped>\n",
       "    .dataframe tbody tr th:only-of-type {\n",
       "        vertical-align: middle;\n",
       "    }\n",
       "\n",
       "    .dataframe tbody tr th {\n",
       "        vertical-align: top;\n",
       "    }\n",
       "\n",
       "    .dataframe thead th {\n",
       "        text-align: right;\n",
       "    }\n",
       "</style>\n",
       "<table border=\"1\" class=\"dataframe\">\n",
       "  <thead>\n",
       "    <tr style=\"text-align: right;\">\n",
       "      <th></th>\n",
       "      <th>Number</th>\n",
       "      <th>Initial Impact Location_x</th>\n",
       "      <th>Principal Damage Location_x</th>\n",
       "      <th>Extent of Damage_x</th>\n",
       "      <th>Vehicle Type_x</th>\n",
       "      <th>Initial Impact Location_y</th>\n",
       "      <th>Principal Damage Location_y</th>\n",
       "      <th>Extent of Damage_y</th>\n",
       "      <th>Vehicle Type_y</th>\n",
       "    </tr>\n",
       "  </thead>\n",
       "  <tbody>\n",
       "    <tr>\n",
       "      <th>0</th>\n",
       "      <td>2017040217-036-A</td>\n",
       "      <td>6.0</td>\n",
       "      <td>6.0</td>\n",
       "      <td>2</td>\n",
       "      <td>1.0</td>\n",
       "      <td>6.0</td>\n",
       "      <td>6.0</td>\n",
       "      <td>2</td>\n",
       "      <td>1.0</td>\n",
       "    </tr>\n",
       "    <tr>\n",
       "      <th>1</th>\n",
       "      <td>2017040217-067-A</td>\n",
       "      <td>3.0</td>\n",
       "      <td>4.0</td>\n",
       "      <td>4</td>\n",
       "      <td>4.0</td>\n",
       "      <td>12.0</td>\n",
       "      <td>12.0</td>\n",
       "      <td>4</td>\n",
       "      <td>1.0</td>\n",
       "    </tr>\n",
       "    <tr>\n",
       "      <th>2</th>\n",
       "      <td>2017040217-161-A</td>\n",
       "      <td>12.0</td>\n",
       "      <td>12.0</td>\n",
       "      <td>2</td>\n",
       "      <td>1.0</td>\n",
       "      <td>6.0</td>\n",
       "      <td>3.0</td>\n",
       "      <td>4</td>\n",
       "      <td>8.0</td>\n",
       "    </tr>\n",
       "    <tr>\n",
       "      <th>3</th>\n",
       "      <td>2017040217-194-A</td>\n",
       "      <td>2.0</td>\n",
       "      <td>2.0</td>\n",
       "      <td>3</td>\n",
       "      <td>1.0</td>\n",
       "      <td>7.0</td>\n",
       "      <td>17.0</td>\n",
       "      <td>2</td>\n",
       "      <td>31.0</td>\n",
       "    </tr>\n",
       "    <tr>\n",
       "      <th>4</th>\n",
       "      <td>2017040217-280-A</td>\n",
       "      <td>12.0</td>\n",
       "      <td>12.0</td>\n",
       "      <td>4</td>\n",
       "      <td>1.0</td>\n",
       "      <td>6.0</td>\n",
       "      <td>6.0</td>\n",
       "      <td>2</td>\n",
       "      <td>5.0</td>\n",
       "    </tr>\n",
       "  </tbody>\n",
       "</table>\n",
       "</div>"
      ],
      "text/plain": [
       "                            Number  Initial Impact Location_x  \\\n",
       "0  2017040217-036-A                                       6.0   \n",
       "1  2017040217-067-A                                       3.0   \n",
       "2  2017040217-161-A                                      12.0   \n",
       "3  2017040217-194-A                                       2.0   \n",
       "4  2017040217-280-A                                      12.0   \n",
       "\n",
       "   Principal Damage Location_x  Extent of Damage_x  Vehicle Type_x  \\\n",
       "0                          6.0                   2             1.0   \n",
       "1                          4.0                   4             4.0   \n",
       "2                         12.0                   2             1.0   \n",
       "3                          2.0                   3             1.0   \n",
       "4                         12.0                   4             1.0   \n",
       "\n",
       "   Initial Impact Location_y  Principal Damage Location_y  Extent of Damage_y  \\\n",
       "0                        6.0                          6.0                   2   \n",
       "1                       12.0                         12.0                   4   \n",
       "2                        6.0                          3.0                   4   \n",
       "3                        7.0                         17.0                   2   \n",
       "4                        6.0                          6.0                   2   \n",
       "\n",
       "   Vehicle Type_y  \n",
       "0             1.0  \n",
       "1             1.0  \n",
       "2             8.0  \n",
       "3            31.0  \n",
       "4             5.0  "
      ]
     },
     "execution_count": 8,
     "metadata": {},
     "output_type": "execute_result"
    }
   ],
   "source": [
    "df2.head()"
   ]
  },
  {
   "cell_type": "code",
   "execution_count": 9,
   "metadata": {},
   "outputs": [],
   "source": [
    "df2.dropna(inplace=True)"
   ]
  },
  {
   "cell_type": "code",
   "execution_count": 10,
   "metadata": {},
   "outputs": [],
   "source": [
    "df3=df.merge(df2, on='Number')"
   ]
  },
  {
   "cell_type": "code",
   "execution_count": 11,
   "metadata": {},
   "outputs": [],
   "source": [
    "list=['Crash Type','Total Vehicles', 'Initial Impact Location_x','Principal Damage Location_x', 'Extent of Damage_x', 'Vehicle Type_x',\n",
    "       'Initial Impact Location_y', 'Principal Damage Location_y','Extent of Damage_y', 'Vehicle Type_y']\n",
    "for column in list:\n",
    "    df3[column]=df3[column].astype('str')"
   ]
  },
  {
   "cell_type": "code",
   "execution_count": 12,
   "metadata": {},
   "outputs": [
    {
     "data": {
      "text/plain": [
       "Index(['Number', 'Municipality', 'Severity', 'Intersection', 'Crash Type',\n",
       "       'Total Vehicles', 'Initial Impact Location_x',\n",
       "       'Principal Damage Location_x', 'Extent of Damage_x', 'Vehicle Type_x',\n",
       "       'Initial Impact Location_y', 'Principal Damage Location_y',\n",
       "       'Extent of Damage_y', 'Vehicle Type_y'],\n",
       "      dtype='object')"
      ]
     },
     "execution_count": 12,
     "metadata": {},
     "output_type": "execute_result"
    }
   ],
   "source": [
    "df3.columns"
   ]
  },
  {
   "cell_type": "code",
   "execution_count": 13,
   "metadata": {},
   "outputs": [],
   "source": [
    "df3.Municipality=df3.Municipality.str.rstrip()"
   ]
  },
  {
   "cell_type": "code",
   "execution_count": 14,
   "metadata": {},
   "outputs": [],
   "source": [
    "df3.Severity[df3.Severity.isin(['I', 'F'])]='1'\n",
    "df3.Severity[df3.Severity.isin(['P'])]='0'\n",
    "df3.Severity=df3.Severity.astype(int)"
   ]
  },
  {
   "cell_type": "code",
   "execution_count": 15,
   "metadata": {},
   "outputs": [],
   "source": [
    "df3.drop(columns=['Number'], inplace=True)\n",
    "cat_column=['Municipality','Intersection', 'Crash Type','Total Vehicles', 'Initial Impact Location_x',\n",
    "       'Principal Damage Location_x', 'Extent of Damage_x', 'Vehicle Type_x','Initial Impact Location_y', 'Principal Damage Location_y',\n",
    "       'Extent of Damage_y', 'Vehicle Type_y']\n",
    "X=df3.drop('Severity',axis=1)\n",
    "y=df3.Severity"
   ]
  },
  {
   "cell_type": "code",
   "execution_count": 16,
   "metadata": {},
   "outputs": [
    {
     "data": {
      "text/plain": [
       "0    31552\n",
       "1    11097\n",
       "Name: Severity, dtype: int64"
      ]
     },
     "execution_count": 16,
     "metadata": {},
     "output_type": "execute_result"
    }
   ],
   "source": [
    "y.value_counts()"
   ]
  },
  {
   "cell_type": "code",
   "execution_count": 17,
   "metadata": {},
   "outputs": [
    {
     "data": {
      "text/plain": [
       "Index(['Municipality', 'Intersection', 'Crash Type', 'Total Vehicles',\n",
       "       'Initial Impact Location_x', 'Principal Damage Location_x',\n",
       "       'Extent of Damage_x', 'Vehicle Type_x', 'Initial Impact Location_y',\n",
       "       'Principal Damage Location_y', 'Extent of Damage_y', 'Vehicle Type_y'],\n",
       "      dtype='object')"
      ]
     },
     "execution_count": 17,
     "metadata": {},
     "output_type": "execute_result"
    }
   ],
   "source": [
    "X.columns"
   ]
  },
  {
   "cell_type": "code",
   "execution_count": 18,
   "metadata": {},
   "outputs": [],
   "source": [
    "from sklearn.model_selection import train_test_split\n",
    "X_train, X_test, y_train, y_test = train_test_split(X, y, test_size=0.3, random_state=0)"
   ]
  },
  {
   "cell_type": "code",
   "execution_count": 19,
   "metadata": {},
   "outputs": [],
   "source": [
    "import catboost as cb\n",
    "train_dataset = cb.Pool(X_train,y_train, cat_features=cat_column)\n",
    "test_dataset = cb.Pool(X_test,y_test, cat_features=cat_column)"
   ]
  },
  {
   "cell_type": "code",
   "execution_count": 20,
   "metadata": {},
   "outputs": [
    {
     "name": "stdout",
     "output_type": "stream",
     "text": [
      "\n",
      "bestTest = 0.7799363591\n",
      "bestIteration = 44\n",
      "\n",
      "0:\tloss: 0.7799364\tbest: 0.7799364 (0)\ttotal: 2.01s\tremaining: 14.1s\n",
      "\n",
      "bestTest = 0.7839557863\n",
      "bestIteration = 49\n",
      "\n",
      "1:\tloss: 0.7839558\tbest: 0.7839558 (1)\ttotal: 3.62s\tremaining: 10.9s\n",
      "\n",
      "bestTest = 0.7799363591\n",
      "bestIteration = 47\n",
      "\n",
      "2:\tloss: 0.7799364\tbest: 0.7839558 (1)\ttotal: 5.19s\tremaining: 8.64s\n",
      "\n",
      "bestTest = 0.7846256908\n",
      "bestIteration = 48\n",
      "\n",
      "3:\tloss: 0.7846257\tbest: 0.7846257 (3)\ttotal: 6.83s\tremaining: 6.83s\n",
      "\n",
      "bestTest = 0.7799363591\n",
      "bestIteration = 49\n",
      "\n",
      "4:\tloss: 0.7799364\tbest: 0.7846257 (3)\ttotal: 8.74s\tremaining: 5.25s\n",
      "\n",
      "bestTest = 0.7868028806\n",
      "bestIteration = 42\n",
      "\n",
      "5:\tloss: 0.7868029\tbest: 0.7868029 (5)\ttotal: 11.1s\tremaining: 3.7s\n",
      "\n",
      "bestTest = 0.7789315023\n",
      "bestIteration = 39\n",
      "\n",
      "6:\tloss: 0.7789315\tbest: 0.7868029 (5)\ttotal: 13s\tremaining: 1.85s\n",
      "\n",
      "bestTest = 0.7864679283\n",
      "bestIteration = 46\n",
      "\n",
      "7:\tloss: 0.7864679\tbest: 0.7868029 (5)\ttotal: 15s\tremaining: 0us\n",
      "Estimating final quality...\n"
     ]
    },
    {
     "data": {
      "text/plain": [
       "{'loss_function': 'Logloss',\n",
       " 'eval_metric': 'Accuracy',\n",
       " 'depth': 6,\n",
       " 'l2_leaf_reg': 1,\n",
       " 'iterations': 50,\n",
       " 'learning_rate': 0.1}"
      ]
     },
     "execution_count": 20,
     "metadata": {},
     "output_type": "execute_result"
    }
   ],
   "source": [
    "model = cb.CatBoostClassifier(loss_function='Logloss', eval_metric='Accuracy') \n",
    "grid = {'learning_rate': [0.03, 0.1],\n",
    "'depth': [4, 6],\n",
    "'l2_leaf_reg': [1, 3],\n",
    "'iterations': [50]}\n",
    "model.grid_search(grid,train_dataset) \n",
    "model.get_params()"
   ]
  },
  {
   "cell_type": "code",
   "execution_count": 21,
   "metadata": {},
   "outputs": [
    {
     "name": "stdout",
     "output_type": "stream",
     "text": [
      "              precision    recall  f1-score   support\n",
      "\n",
      "           0       0.80      0.95      0.87      9365\n",
      "           1       0.73      0.34      0.46      3430\n",
      "\n",
      "    accuracy                           0.79     12795\n",
      "   macro avg       0.76      0.65      0.67     12795\n",
      "weighted avg       0.78      0.79      0.76     12795\n",
      "\n"
     ]
    }
   ],
   "source": [
    "from sklearn.metrics import classification_report \n",
    "pred = model.predict(X_test)\n",
    "print(classification_report(y_test, pred))"
   ]
  },
  {
   "cell_type": "code",
   "execution_count": 22,
   "metadata": {},
   "outputs": [
    {
     "name": "stdout",
     "output_type": "stream",
     "text": [
      "[[8925  440]\n",
      " [2261 1169]]\n"
     ]
    }
   ],
   "source": [
    "from sklearn.metrics import confusion_matrix\n",
    "print(confusion_matrix(y_test, pred))"
   ]
  },
  {
   "cell_type": "code",
   "execution_count": 23,
   "metadata": {},
   "outputs": [
    {
     "data": {
      "text/plain": [
       "Text(0.5, 1.0, 'Confusion Matrix of Catboost Model 4')"
      ]
     },
     "execution_count": 23,
     "metadata": {},
     "output_type": "execute_result"
    },
    {
     "data": {
      "image/png": "[encoded data removed]",
      "text/plain": [
       "<Figure size 432x288 with 2 Axes>"
      ]
     },
     "metadata": {
      "needs_background": "light"
     },
     "output_type": "display_data"
    }
   ],
   "source": [
    "ax=sns.heatmap(confusion_matrix(y_test, pred),annot=True, fmt=\".0f\", annot_kws={\"size\": 16})\n",
    "ax.set_title(\"Confusion Matrix of Catboost Model 4\",fontdict= { 'fontsize': 16} )"
   ]
  },
  {
   "cell_type": "code",
   "execution_count": 24,
   "metadata": {},
   "outputs": [
    {
     "data": {
      "image/png": "[encoded data removed]",
      "text/plain": [
       "<Figure size 432x288 with 1 Axes>"
      ]
     },
     "metadata": {
      "needs_background": "light"
     },
     "output_type": "display_data"
    }
   ],
   "source": [
    "import sklearn.metrics as metrics\n",
    "probs = model.predict_proba(X_test)\n",
    "preds = probs[:,1]\n",
    "fpr, tpr, threshold = metrics.roc_curve(y_test, preds)\n",
    "roc_auc = metrics.auc(fpr, tpr)\n",
    "\n",
    "# method I: plt\n",
    "plt.title('ROC Curve of Model 4')\n",
    "plt.plot(fpr, tpr, 'b', label = 'AUC = %0.2f' % roc_auc)\n",
    "plt.legend(loc = 'lower right')\n",
    "plt.plot([0, 1], [0, 1],'r--')\n",
    "plt.xlim([0, 1])\n",
    "plt.ylim([0, 1])\n",
    "plt.ylabel('True Positive Rate')\n",
    "plt.xlabel('False Positive Rate')\n",
    "plt.show()"
   ]
  },
  {
   "cell_type": "code",
   "execution_count": 25,
   "metadata": {},
   "outputs": [
    {
     "data": {
      "image/png": "[encoded data removed]",
      "text/plain": [
       "<Figure size 576x453.6 with 1 Axes>"
      ]
     },
     "metadata": {
      "needs_background": "light"
     },
     "output_type": "display_data"
    }
   ],
   "source": [
    "import shap\n",
    "shap_values = shap.TreeExplainer(model).shap_values(X_train)\n",
    "shap.summary_plot(shap_values, X_train, plot_type=\"bar\")"
   ]
  },
  {
   "cell_type": "code",
   "execution_count": 26,
   "metadata": {},
   "outputs": [],
   "source": [
    "X=pd.get_dummies(X)\n",
    "X_train, X_test, y_train, y_test = train_test_split(X, y, test_size=0.3, random_state=0)"
   ]
  },
  {
   "cell_type": "code",
   "execution_count": 27,
   "metadata": {},
   "outputs": [
    {
     "data": {
      "text/plain": [
       "0    22187\n",
       "1     7667\n",
       "Name: Severity, dtype: int64"
      ]
     },
     "execution_count": 27,
     "metadata": {},
     "output_type": "execute_result"
    }
   ],
   "source": [
    "y_train.value_counts()"
   ]
  },
  {
   "cell_type": "code",
   "execution_count": null,
   "metadata": {},
   "outputs": [],
   "source": []
  },
  {
   "cell_type": "code",
   "execution_count": 28,
   "metadata": {},
   "outputs": [
    {
     "name": "stdout",
     "output_type": "stream",
     "text": [
      "After OverSampling, the shape of train_X: (44374, 178)\n",
      "After OverSampling, the shape of train_y: (44374,) \n",
      "\n",
      "After OverSampling, counts of label '1': 22187\n",
      "After OverSampling, counts of label '0': 22187\n"
     ]
    }
   ],
   "source": [
    "sm = SMOTE(random_state = 2)\n",
    "X_train_res, y_train_res = sm.fit_resample(X_train, y_train.ravel())\n",
    "  \n",
    "print('After OverSampling, the shape of train_X: {}'.format(X_train_res.shape))\n",
    "print('After OverSampling, the shape of train_y: {} \\n'.format(y_train_res.shape))\n",
    "  \n",
    "print(\"After OverSampling, counts of label '1': {}\".format(sum(y_train_res == 1)))\n",
    "print(\"After OverSampling, counts of label '0': {}\".format(sum(y_train_res == 0)))"
   ]
  },
  {
   "cell_type": "code",
   "execution_count": null,
   "metadata": {},
   "outputs": [],
   "source": []
  },
  {
   "cell_type": "code",
   "execution_count": 29,
   "metadata": {},
   "outputs": [],
   "source": [
    "train_dataset = cb.Pool(X_train_res,y_train_res)\n",
    "test_dataset = cb.Pool(X_test,y_test)"
   ]
  },
  {
   "cell_type": "code",
   "execution_count": 30,
   "metadata": {},
   "outputs": [
    {
     "name": "stdout",
     "output_type": "stream",
     "text": [
      "\n",
      "bestTest = 0.7383661972\n",
      "bestIteration = 49\n",
      "\n",
      "0:\tloss: 0.7383662\tbest: 0.7383662 (0)\ttotal: 912ms\tremaining: 6.38s\n",
      "\n",
      "bestTest = 0.7896338028\n",
      "bestIteration = 49\n",
      "\n",
      "1:\tloss: 0.7896338\tbest: 0.7896338 (1)\ttotal: 1.69s\tremaining: 5.08s\n",
      "\n",
      "bestTest = 0.7383661972\n",
      "bestIteration = 47\n",
      "\n",
      "2:\tloss: 0.7383662\tbest: 0.7896338 (1)\ttotal: 2.46s\tremaining: 4.11s\n",
      "\n",
      "bestTest = 0.7861408451\n",
      "bestIteration = 48\n",
      "\n",
      "3:\tloss: 0.7861408\tbest: 0.7896338 (1)\ttotal: 3.21s\tremaining: 3.21s\n",
      "\n",
      "bestTest = 0.76\n",
      "bestIteration = 49\n",
      "\n",
      "4:\tloss: 0.7600000\tbest: 0.7896338 (1)\ttotal: 4.52s\tremaining: 2.71s\n",
      "\n",
      "bestTest = 0.7954929577\n",
      "bestIteration = 48\n",
      "\n",
      "5:\tloss: 0.7954930\tbest: 0.7954930 (5)\ttotal: 5.78s\tremaining: 1.93s\n",
      "\n",
      "bestTest = 0.7513239437\n",
      "bestIteration = 49\n",
      "\n",
      "6:\tloss: 0.7513239\tbest: 0.7954930 (5)\ttotal: 6.96s\tremaining: 994ms\n",
      "\n",
      "bestTest = 0.7961690141\n",
      "bestIteration = 48\n",
      "\n",
      "7:\tloss: 0.7961690\tbest: 0.7961690 (7)\ttotal: 8.43s\tremaining: 0us\n",
      "Estimating final quality...\n"
     ]
    },
    {
     "data": {
      "text/plain": [
       "{'loss_function': 'Logloss',\n",
       " 'eval_metric': 'Accuracy',\n",
       " 'depth': 6,\n",
       " 'l2_leaf_reg': 3,\n",
       " 'iterations': 50,\n",
       " 'learning_rate': 0.1}"
      ]
     },
     "execution_count": 30,
     "metadata": {},
     "output_type": "execute_result"
    }
   ],
   "source": [
    "model = cb.CatBoostClassifier(loss_function='Logloss', eval_metric='Accuracy') \n",
    "grid = {'learning_rate': [0.03, 0.1],\n",
    "'depth': [4, 6],\n",
    "'l2_leaf_reg': [1, 3],\n",
    "'iterations': [50]}\n",
    "model.grid_search(grid,train_dataset) \n",
    "model.get_params()"
   ]
  },
  {
   "cell_type": "code",
   "execution_count": 31,
   "metadata": {},
   "outputs": [
    {
     "name": "stdout",
     "output_type": "stream",
     "text": [
      "              precision    recall  f1-score   support\n",
      "\n",
      "           0       0.84      0.83      0.84      9365\n",
      "           1       0.56      0.57      0.57      3430\n",
      "\n",
      "    accuracy                           0.76     12795\n",
      "   macro avg       0.70      0.70      0.70     12795\n",
      "weighted avg       0.77      0.76      0.77     12795\n",
      "\n"
     ]
    }
   ],
   "source": [
    "pred = model.predict(X_test)\n",
    "print(classification_report(y_test, pred))"
   ]
  },
  {
   "cell_type": "code",
   "execution_count": 32,
   "metadata": {},
   "outputs": [
    {
     "data": {
      "text/plain": [
       "Text(0.5, 1.0, 'Confusion Matrix of Catboost Model 5')"
      ]
     },
     "execution_count": 32,
     "metadata": {},
     "output_type": "execute_result"
    },
    {
     "data": {
      "image/png": "[encoded data removed]",
      "text/plain": [
       "<Figure size 432x288 with 2 Axes>"
      ]
     },
     "metadata": {
      "needs_background": "light"
     },
     "output_type": "display_data"
    }
   ],
   "source": [
    "ax=sns.heatmap(confusion_matrix(y_test, pred),annot=True, fmt=\".0f\", annot_kws={\"size\": 16})\n",
    "ax.set_title(\"Confusion Matrix of Catboost Model 5\",fontdict= { 'fontsize': 16} )"
   ]
  },
  {
   "cell_type": "code",
   "execution_count": 33,
   "metadata": {},
   "outputs": [
    {
     "name": "stdout",
     "output_type": "stream",
     "text": [
      "[[7990 1375]\n",
      " [1744 1686]]\n"
     ]
    }
   ],
   "source": [
    "from sklearn.ensemble import RandomForestClassifier\n",
    "clf = RandomForestClassifier(n_estimators=100, random_state = 1,n_jobs=-1)\n",
    "model_res = clf.fit(X_train_res, y_train_res)\n",
    "y_pred = model_res.predict(X_test)\n",
    "y_pred_prob = model_res.predict_proba(X_test)\n",
    "lr_probs = y_pred_prob[:,1]\n",
    "print(confusion_matrix(y_test, y_pred))"
   ]
  },
  {
   "cell_type": "code",
   "execution_count": 34,
   "metadata": {},
   "outputs": [
    {
     "name": "stdout",
     "output_type": "stream",
     "text": [
      "              precision    recall  f1-score   support\n",
      "\n",
      "           0       0.82      0.85      0.84      9365\n",
      "           1       0.55      0.49      0.52      3430\n",
      "\n",
      "    accuracy                           0.76     12795\n",
      "   macro avg       0.69      0.67      0.68     12795\n",
      "weighted avg       0.75      0.76      0.75     12795\n",
      "\n"
     ]
    }
   ],
   "source": [
    "print(classification_report(y_test, y_pred))"
   ]
  },
  {
   "cell_type": "code",
   "execution_count": 35,
   "metadata": {},
   "outputs": [],
   "source": [
    "train_dataset = cb.Pool(X_train_res,y_train_res)\n",
    "test_dataset = cb.Pool(X_test,y_test)"
   ]
  },
  {
   "cell_type": "code",
   "execution_count": 36,
   "metadata": {},
   "outputs": [
    {
     "name": "stdout",
     "output_type": "stream",
     "text": [
      "\n",
      "bestTest = 0.7383661972\n",
      "bestIteration = 49\n",
      "\n",
      "0:\tloss: 0.7383662\tbest: 0.7383662 (0)\ttotal: 1.36s\tremaining: 9.49s\n",
      "\n",
      "bestTest = 0.7896338028\n",
      "bestIteration = 49\n",
      "\n",
      "1:\tloss: 0.7896338\tbest: 0.7896338 (1)\ttotal: 3.18s\tremaining: 9.53s\n",
      "\n",
      "bestTest = 0.7383661972\n",
      "bestIteration = 47\n",
      "\n",
      "2:\tloss: 0.7383662\tbest: 0.7896338 (1)\ttotal: 4.58s\tremaining: 7.63s\n",
      "\n",
      "bestTest = 0.7861408451\n",
      "bestIteration = 48\n",
      "\n",
      "3:\tloss: 0.7861408\tbest: 0.7896338 (1)\ttotal: 5.78s\tremaining: 5.78s\n",
      "\n",
      "bestTest = 0.76\n",
      "bestIteration = 49\n",
      "\n",
      "4:\tloss: 0.7600000\tbest: 0.7896338 (1)\ttotal: 7.34s\tremaining: 4.41s\n",
      "\n",
      "bestTest = 0.7954929577\n",
      "bestIteration = 48\n",
      "\n",
      "5:\tloss: 0.7954930\tbest: 0.7954930 (5)\ttotal: 8.74s\tremaining: 2.91s\n",
      "\n",
      "bestTest = 0.7513239437\n",
      "bestIteration = 49\n",
      "\n",
      "6:\tloss: 0.7513239\tbest: 0.7954930 (5)\ttotal: 10.3s\tremaining: 1.47s\n",
      "\n",
      "bestTest = 0.7961690141\n",
      "bestIteration = 48\n",
      "\n",
      "7:\tloss: 0.7961690\tbest: 0.7961690 (7)\ttotal: 11.9s\tremaining: 0us\n",
      "Estimating final quality...\n"
     ]
    },
    {
     "data": {
      "text/plain": [
       "{'loss_function': 'Logloss',\n",
       " 'eval_metric': 'Accuracy',\n",
       " 'depth': 6,\n",
       " 'l2_leaf_reg': 3,\n",
       " 'iterations': 50,\n",
       " 'learning_rate': 0.1}"
      ]
     },
     "execution_count": 36,
     "metadata": {},
     "output_type": "execute_result"
    }
   ],
   "source": [
    "model = cb.CatBoostClassifier(loss_function='Logloss', eval_metric='Accuracy') \n",
    "grid = {'learning_rate': [0.03, 0.1],\n",
    "'depth': [4, 6],\n",
    "'l2_leaf_reg': [1, 3],\n",
    "'iterations': [50]}\n",
    "model.grid_search(grid,train_dataset) \n",
    "model.get_params()"
   ]
  },
  {
   "cell_type": "code",
   "execution_count": 37,
   "metadata": {},
   "outputs": [
    {
     "name": "stdout",
     "output_type": "stream",
     "text": [
      "              precision    recall  f1-score   support\n",
      "\n",
      "           0       0.84      0.83      0.84      9365\n",
      "           1       0.56      0.57      0.57      3430\n",
      "\n",
      "    accuracy                           0.76     12795\n",
      "   macro avg       0.70      0.70      0.70     12795\n",
      "weighted avg       0.77      0.76      0.77     12795\n",
      "\n"
     ]
    }
   ],
   "source": [
    "pred = model.predict(X_test)\n",
    "print(classification_report(y_test, pred))"
   ]
  },
  {
   "cell_type": "code",
   "execution_count": 38,
   "metadata": {},
   "outputs": [
    {
     "name": "stdout",
     "output_type": "stream",
     "text": [
      "[[7816 1549]\n",
      " [1466 1964]]\n"
     ]
    }
   ],
   "source": [
    "print(confusion_matrix(y_test, pred))"
   ]
  },
  {
   "cell_type": "code",
   "execution_count": 39,
   "metadata": {},
   "outputs": [],
   "source": [
    "smote_on_1 = 40000"
   ]
  },
  {
   "cell_type": "code",
   "execution_count": 40,
   "metadata": {},
   "outputs": [
    {
     "name": "stdout",
     "output_type": "stream",
     "text": [
      "After OverSampling, the shape of train_X: (44374, 178)\n",
      "After OverSampling, the shape of train_y: (44374,) \n",
      "\n",
      "After OverSampling, counts of label '1': 22187\n",
      "After OverSampling, counts of label '0': 22187\n"
     ]
    }
   ],
   "source": [
    "sm = SMOTE(random_state = 2)\n",
    "X_train_res, y_train_res = sm.fit_resample(X_train, y_train.ravel())\n",
    "  \n",
    "print('After OverSampling, the shape of train_X: {}'.format(X_train_res.shape))\n",
    "print('After OverSampling, the shape of train_y: {} \\n'.format(y_train_res.shape))\n",
    "  \n",
    "print(\"After OverSampling, counts of label '1': {}\".format(sum(y_train_res == 1)))\n",
    "print(\"After OverSampling, counts of label '0': {}\".format(sum(y_train_res == 0)))"
   ]
  },
  {
   "cell_type": "code",
   "execution_count": 41,
   "metadata": {},
   "outputs": [
    {
     "name": "stdout",
     "output_type": "stream",
     "text": [
      "\n",
      "bestTest = 0.7383661972\n",
      "bestIteration = 49\n",
      "\n",
      "0:\tloss: 0.7383662\tbest: 0.7383662 (0)\ttotal: 1.02s\tremaining: 7.12s\n",
      "\n",
      "bestTest = 0.7896338028\n",
      "bestIteration = 49\n",
      "\n",
      "1:\tloss: 0.7896338\tbest: 0.7896338 (1)\ttotal: 2.04s\tremaining: 6.11s\n",
      "\n",
      "bestTest = 0.7383661972\n",
      "bestIteration = 47\n",
      "\n",
      "2:\tloss: 0.7383662\tbest: 0.7896338 (1)\ttotal: 3.09s\tremaining: 5.15s\n",
      "\n",
      "bestTest = 0.7861408451\n",
      "bestIteration = 48\n",
      "\n",
      "3:\tloss: 0.7861408\tbest: 0.7896338 (1)\ttotal: 4.17s\tremaining: 4.17s\n",
      "\n",
      "bestTest = 0.76\n",
      "bestIteration = 49\n",
      "\n",
      "4:\tloss: 0.7600000\tbest: 0.7896338 (1)\ttotal: 6.42s\tremaining: 3.85s\n",
      "\n",
      "bestTest = 0.7954929577\n",
      "bestIteration = 48\n",
      "\n",
      "5:\tloss: 0.7954930\tbest: 0.7954930 (5)\ttotal: 8.44s\tremaining: 2.81s\n",
      "\n",
      "bestTest = 0.7513239437\n",
      "bestIteration = 49\n",
      "\n",
      "6:\tloss: 0.7513239\tbest: 0.7954930 (5)\ttotal: 10.1s\tremaining: 1.45s\n",
      "\n",
      "bestTest = 0.7961690141\n",
      "bestIteration = 48\n",
      "\n",
      "7:\tloss: 0.7961690\tbest: 0.7961690 (7)\ttotal: 12.1s\tremaining: 0us\n",
      "Estimating final quality...\n"
     ]
    },
    {
     "data": {
      "text/plain": [
       "{'loss_function': 'Logloss',\n",
       " 'eval_metric': 'Accuracy',\n",
       " 'depth': 6,\n",
       " 'l2_leaf_reg': 3,\n",
       " 'iterations': 50,\n",
       " 'learning_rate': 0.1}"
      ]
     },
     "execution_count": 41,
     "metadata": {},
     "output_type": "execute_result"
    }
   ],
   "source": [
    "train_dataset = cb.Pool(X_train_res,y_train_res)\n",
    "test_dataset = cb.Pool(X_test,y_test)\n",
    "model = cb.CatBoostClassifier(loss_function='Logloss', eval_metric='Accuracy') \n",
    "grid = {'learning_rate': [0.03, 0.1],\n",
    "'depth': [4, 6],\n",
    "'l2_leaf_reg': [1, 3],\n",
    "'iterations': [50]}\n",
    "model.grid_search(grid,train_dataset) \n",
    "model.get_params()\n"
   ]
  },
  {
   "cell_type": "code",
   "execution_count": 42,
   "metadata": {},
   "outputs": [
    {
     "name": "stdout",
     "output_type": "stream",
     "text": [
      "              precision    recall  f1-score   support\n",
      "\n",
      "           0       0.84      0.83      0.84      9365\n",
      "           1       0.56      0.57      0.57      3430\n",
      "\n",
      "    accuracy                           0.76     12795\n",
      "   macro avg       0.70      0.70      0.70     12795\n",
      "weighted avg       0.77      0.76      0.77     12795\n",
      "\n"
     ]
    }
   ],
   "source": [
    "pred = model.predict(X_test)\n",
    "print(classification_report(y_test, pred))"
   ]
  },
  {
   "cell_type": "code",
   "execution_count": 43,
   "metadata": {},
   "outputs": [
    {
     "name": "stdout",
     "output_type": "stream",
     "text": [
      "[[7816 1549]\n",
      " [1466 1964]]\n"
     ]
    }
   ],
   "source": [
    "print(confusion_matrix(y_test, pred))"
   ]
  },
  {
   "cell_type": "code",
   "execution_count": 44,
   "metadata": {},
   "outputs": [
    {
     "data": {
      "image/png": "[encoded data removed]",
      "text/plain": [
       "<Figure size 576x684 with 1 Axes>"
      ]
     },
     "metadata": {
      "needs_background": "light"
     },
     "output_type": "display_data"
    }
   ],
   "source": [
    "import shap\n",
    "shap_values = shap.TreeExplainer(model).shap_values(X_train)\n",
    "shap.summary_plot(shap_values, X_train, plot_type=\"bar\")"
   ]
  }
 ],
 "metadata": {
  "kernelspec": {
   "display_name": "Python 3",
   "language": "python",
   "name": "python3"
  },
  "language_info": {
   "codemirror_mode": {
    "name": "ipython",
    "version": 3
   },
   "file_extension": ".py",
   "mimetype": "text/x-python",
   "name": "python",
   "nbconvert_exporter": "python",
   "pygments_lexer": "ipython3",
   "version": "3.8.3"
  }
 },
 "nbformat": 4,
 "nbformat_minor": 4
}
