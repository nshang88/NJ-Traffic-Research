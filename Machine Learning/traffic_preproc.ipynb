{
 "cells": [
  {
   "cell_type": "code",
   "execution_count": 1,
   "metadata": {},
   "outputs": [],
   "source": [
    "import pandas as pd\n",
    "import numpy as np\n",
    "import matplotlib.pyplot as plt\n",
    "import seaborn as sns\n",
    "from sklearn.metrics import confusion_matrix\n",
    "from sklearn.metrics import classification_report "
   ]
  },
  {
   "cell_type": "code",
   "execution_count": 2,
   "metadata": {},
   "outputs": [
    {
     "data": {
      "text/plain": [
       "Datetime                      object\n",
       "Number                        object\n",
       "Municipality                  object\n",
       "Date                          object\n",
       "Day of Week                   object\n",
       "Severity                      object\n",
       "Intersection                  object\n",
       "Crash Type                     int64\n",
       "Total Vehicles               float64\n",
       "Location                      object\n",
       "Road Horizontal Alignment    float64\n",
       "Road Grade                   float64\n",
       "Road Surface Type            float64\n",
       "Surface Condition            float64\n",
       "Light Condition              float64\n",
       "Environment Condition        float64\n",
       "Road Divided By              float64\n",
       "Posted Speed                 float64\n",
       "Month                          int64\n",
       "dtype: object"
      ]
     },
     "execution_count": 2,
     "metadata": {},
     "output_type": "execute_result"
    }
   ],
   "source": [
    "df=pd.read_csv('Camden_accidents/Camden_accidents2.csv')\n",
    "df.dtypes"
   ]
  },
  {
   "cell_type": "code",
   "execution_count": 3,
   "metadata": {},
   "outputs": [
    {
     "data": {
      "text/html": [
       "<div>\n",
       "<style scoped>\n",
       "    .dataframe tbody tr th:only-of-type {\n",
       "        vertical-align: middle;\n",
       "    }\n",
       "\n",
       "    .dataframe tbody tr th {\n",
       "        vertical-align: top;\n",
       "    }\n",
       "\n",
       "    .dataframe thead th {\n",
       "        text-align: right;\n",
       "    }\n",
       "</style>\n",
       "<table border=\"1\" class=\"dataframe\">\n",
       "  <thead>\n",
       "    <tr style=\"text-align: right;\">\n",
       "      <th></th>\n",
       "      <th>Datetime</th>\n",
       "      <th>Number</th>\n",
       "      <th>Municipality</th>\n",
       "      <th>Date</th>\n",
       "      <th>Day of Week</th>\n",
       "      <th>Severity</th>\n",
       "      <th>Intersection</th>\n",
       "      <th>Crash Type</th>\n",
       "      <th>Total Vehicles</th>\n",
       "      <th>Location</th>\n",
       "      <th>Road Horizontal Alignment</th>\n",
       "      <th>Road Grade</th>\n",
       "      <th>Road Surface Type</th>\n",
       "      <th>Surface Condition</th>\n",
       "      <th>Light Condition</th>\n",
       "      <th>Environment Condition</th>\n",
       "      <th>Road Divided By</th>\n",
       "      <th>Posted Speed</th>\n",
       "      <th>Month</th>\n",
       "    </tr>\n",
       "  </thead>\n",
       "  <tbody>\n",
       "    <tr>\n",
       "      <th>0</th>\n",
       "      <td>2017-01-01 01:05:00</td>\n",
       "      <td>201704122017-000003</td>\n",
       "      <td>Collingswood Boro</td>\n",
       "      <td>2017-01-01</td>\n",
       "      <td>SU</td>\n",
       "      <td>I</td>\n",
       "      <td>I</td>\n",
       "      <td>11</td>\n",
       "      <td>1.0</td>\n",
       "      <td>US 130                                        ...</td>\n",
       "      <td>1.0</td>\n",
       "      <td>4.0</td>\n",
       "      <td>2.0</td>\n",
       "      <td>1.0</td>\n",
       "      <td>7.0</td>\n",
       "      <td>1.0</td>\n",
       "      <td>1.0</td>\n",
       "      <td>40.0</td>\n",
       "      <td>1</td>\n",
       "    </tr>\n",
       "    <tr>\n",
       "      <th>1</th>\n",
       "      <td>2017-01-01 01:19:00</td>\n",
       "      <td>2017040917-000034</td>\n",
       "      <td>Cherry Hill Twp</td>\n",
       "      <td>2017-01-01</td>\n",
       "      <td>SU</td>\n",
       "      <td>I</td>\n",
       "      <td>B</td>\n",
       "      <td>13</td>\n",
       "      <td>1.0</td>\n",
       "      <td>Other</td>\n",
       "      <td>1.0</td>\n",
       "      <td>4.0</td>\n",
       "      <td>2.0</td>\n",
       "      <td>1.0</td>\n",
       "      <td>6.0</td>\n",
       "      <td>3.0</td>\n",
       "      <td>4.0</td>\n",
       "      <td>25.0</td>\n",
       "      <td>1</td>\n",
       "    </tr>\n",
       "    <tr>\n",
       "      <th>2</th>\n",
       "      <td>2017-01-01 01:45:00</td>\n",
       "      <td>20170436A160-2017-00002A</td>\n",
       "      <td>Winslow Twp</td>\n",
       "      <td>2017-01-01</td>\n",
       "      <td>SU</td>\n",
       "      <td>P</td>\n",
       "      <td>B</td>\n",
       "      <td>11</td>\n",
       "      <td>1.0</td>\n",
       "      <td>ATLANTIC CITY EXPRESSWAY                      ...</td>\n",
       "      <td>1.0</td>\n",
       "      <td>4.0</td>\n",
       "      <td>2.0</td>\n",
       "      <td>1.0</td>\n",
       "      <td>7.0</td>\n",
       "      <td>1.0</td>\n",
       "      <td>1.0</td>\n",
       "      <td>65.0</td>\n",
       "      <td>1</td>\n",
       "    </tr>\n",
       "    <tr>\n",
       "      <th>3</th>\n",
       "      <td>2017-01-01 02:08:00</td>\n",
       "      <td>201704152017-000019</td>\n",
       "      <td>Gloucester Twp</td>\n",
       "      <td>2017-01-01</td>\n",
       "      <td>SU</td>\n",
       "      <td>P</td>\n",
       "      <td>I</td>\n",
       "      <td>6</td>\n",
       "      <td>2.0</td>\n",
       "      <td>NJ 168                                        ...</td>\n",
       "      <td>1.0</td>\n",
       "      <td>4.0</td>\n",
       "      <td>2.0</td>\n",
       "      <td>1.0</td>\n",
       "      <td>6.0</td>\n",
       "      <td>1.0</td>\n",
       "      <td>4.0</td>\n",
       "      <td>25.0</td>\n",
       "      <td>1</td>\n",
       "    </tr>\n",
       "    <tr>\n",
       "      <th>4</th>\n",
       "      <td>2017-01-01 07:33:00</td>\n",
       "      <td>2017040917-000064</td>\n",
       "      <td>Cherry Hill Twp</td>\n",
       "      <td>2017-01-01</td>\n",
       "      <td>SU</td>\n",
       "      <td>I</td>\n",
       "      <td>B</td>\n",
       "      <td>1</td>\n",
       "      <td>2.0</td>\n",
       "      <td>ROUTE 561                                     ...</td>\n",
       "      <td>1.0</td>\n",
       "      <td>4.0</td>\n",
       "      <td>2.0</td>\n",
       "      <td>1.0</td>\n",
       "      <td>1.0</td>\n",
       "      <td>1.0</td>\n",
       "      <td>5.0</td>\n",
       "      <td>45.0</td>\n",
       "      <td>1</td>\n",
       "    </tr>\n",
       "  </tbody>\n",
       "</table>\n",
       "</div>"
      ],
      "text/plain": [
       "              Datetime                           Number       Municipality  \\\n",
       "0  2017-01-01 01:05:00  201704122017-000003              Collingswood Boro   \n",
       "1  2017-01-01 01:19:00  2017040917-000034                  Cherry Hill Twp   \n",
       "2  2017-01-01 01:45:00  20170436A160-2017-00002A               Winslow Twp   \n",
       "3  2017-01-01 02:08:00  201704152017-000019                 Gloucester Twp   \n",
       "4  2017-01-01 07:33:00  2017040917-000064                  Cherry Hill Twp   \n",
       "\n",
       "         Date Day of Week Severity Intersection  Crash Type  Total Vehicles  \\\n",
       "0  2017-01-01          SU        I            I          11             1.0   \n",
       "1  2017-01-01          SU        I            B          13             1.0   \n",
       "2  2017-01-01          SU        P            B          11             1.0   \n",
       "3  2017-01-01          SU        P            I           6             2.0   \n",
       "4  2017-01-01          SU        I            B           1             2.0   \n",
       "\n",
       "                                            Location  \\\n",
       "0  US 130                                        ...   \n",
       "1                                              Other   \n",
       "2  ATLANTIC CITY EXPRESSWAY                      ...   \n",
       "3  NJ 168                                        ...   \n",
       "4  ROUTE 561                                     ...   \n",
       "\n",
       "   Road Horizontal Alignment  Road Grade  Road Surface Type  \\\n",
       "0                        1.0         4.0                2.0   \n",
       "1                        1.0         4.0                2.0   \n",
       "2                        1.0         4.0                2.0   \n",
       "3                        1.0         4.0                2.0   \n",
       "4                        1.0         4.0                2.0   \n",
       "\n",
       "   Surface Condition  Light Condition  Environment Condition  Road Divided By  \\\n",
       "0                1.0              7.0                    1.0              1.0   \n",
       "1                1.0              6.0                    3.0              4.0   \n",
       "2                1.0              7.0                    1.0              1.0   \n",
       "3                1.0              6.0                    1.0              4.0   \n",
       "4                1.0              1.0                    1.0              5.0   \n",
       "\n",
       "   Posted Speed  Month  \n",
       "0          40.0      1  \n",
       "1          25.0      1  \n",
       "2          65.0      1  \n",
       "3          25.0      1  \n",
       "4          45.0      1  "
      ]
     },
     "execution_count": 3,
     "metadata": {},
     "output_type": "execute_result"
    }
   ],
   "source": [
    "df.head()"
   ]
  },
  {
   "cell_type": "code",
   "execution_count": 4,
   "metadata": {},
   "outputs": [
    {
     "data": {
      "text/plain": [
       "Cherry Hill Twp        7816\n",
       "Gloucester Twp         5134\n",
       "Camden City            4837\n",
       "Pennsauken Twp         3995\n",
       "Winslow Twp            3151\n",
       "Bellmawr Boro          2818\n",
       "Gloucester City        2400\n",
       "Voorhees Twp           2181\n",
       "Haddon Twp             1081\n",
       "Lindenwold Boro        1040\n",
       "Other                   991\n",
       "Magnolia Boro           767\n",
       "Haddon Heights Boro     748\n",
       "Runnemede Boro          721\n",
       "Berlin Boro             708\n",
       "Somerdale Boro          665\n",
       "Clementon Boro          636\n",
       "Barrington Boro         615\n",
       "Collingswood Boro       602\n",
       "Mount Ephriam Boro      497\n",
       "Pine Hill Boro          497\n",
       "Waterford Twp           479\n",
       "Haddonfield Boro        400\n",
       "Stratford Boro          395\n",
       "Lawnside Boro           392\n",
       "Berlin Twp              368\n",
       "Name: Municipality, dtype: int64"
      ]
     },
     "execution_count": 4,
     "metadata": {},
     "output_type": "execute_result"
    }
   ],
   "source": [
    "df.Municipality.value_counts()"
   ]
  },
  {
   "cell_type": "code",
   "execution_count": 5,
   "metadata": {},
   "outputs": [],
   "source": [
    "df=df.astype({'Crash Type':'category', 'Municipality':'category','Total Vehicles':'str','Road Horizontal Alignment':'str', 'Road Grade':'str', 'Road Surface Type':'str',\n",
    "       'Surface Condition':'str', 'Light Condition':'str', 'Environment Condition':'str','Road Divided By':'str', 'Location':\n",
    "             'str', 'Intersection':'str'})"
   ]
  },
  {
   "cell_type": "code",
   "execution_count": 6,
   "metadata": {},
   "outputs": [],
   "source": [
    "df1=df.drop(columns=['Datetime', 'Number', 'Date', 'Day of Week','Road Horizontal Alignment','Environment Condition','Light Condition',\n",
    "                    'Road Grade','Surface Condition', 'Location'])"
   ]
  },
  {
   "cell_type": "code",
   "execution_count": 7,
   "metadata": {},
   "outputs": [],
   "source": [
    "df1.loc[df1['Severity']=='F', 'Severity']='I'"
   ]
  },
  {
   "cell_type": "code",
   "execution_count": 8,
   "metadata": {},
   "outputs": [
    {
     "data": {
      "text/plain": [
       "0.2614831337915965"
      ]
     },
     "execution_count": 8,
     "metadata": {},
     "output_type": "execute_result"
    }
   ],
   "source": [
    "df1.Severity[df1['Severity']=='I'].count()/df1.Severity.count()"
   ]
  },
  {
   "cell_type": "code",
   "execution_count": 9,
   "metadata": {},
   "outputs": [],
   "source": [
    "df1.loc[df1['Severity']=='I', 'Severity']='1'\n",
    "df1.loc[df1['Severity']=='P', 'Severity']='0'"
   ]
  },
  {
   "cell_type": "code",
   "execution_count": 10,
   "metadata": {},
   "outputs": [
    {
     "data": {
      "text/plain": [
       "Index(['Municipality', 'Severity', 'Intersection', 'Crash Type',\n",
       "       'Total Vehicles', 'Road Surface Type', 'Road Divided By',\n",
       "       'Posted Speed', 'Month'],\n",
       "      dtype='object')"
      ]
     },
     "execution_count": 10,
     "metadata": {},
     "output_type": "execute_result"
    }
   ],
   "source": [
    "df1.dtypes\n",
    "df1.columns"
   ]
  },
  {
   "cell_type": "code",
   "execution_count": 11,
   "metadata": {},
   "outputs": [],
   "source": [
    "cat_columns=['Municipality','Intersection', 'Crash Type','Total Vehicles']"
   ]
  },
  {
   "cell_type": "code",
   "execution_count": 12,
   "metadata": {},
   "outputs": [],
   "source": [
    "X=df1.drop('Severity',axis=1)\n",
    "y=df1.Severity"
   ]
  },
  {
   "cell_type": "code",
   "execution_count": 13,
   "metadata": {},
   "outputs": [
    {
     "data": {
      "text/plain": [
       "(43934, 8)"
      ]
     },
     "execution_count": 13,
     "metadata": {},
     "output_type": "execute_result"
    }
   ],
   "source": [
    "X.shape"
   ]
  },
  {
   "cell_type": "code",
   "execution_count": 14,
   "metadata": {},
   "outputs": [
    {
     "data": {
      "text/plain": [
       "Municipality         category\n",
       "Severity               object\n",
       "Intersection           object\n",
       "Crash Type           category\n",
       "Total Vehicles         object\n",
       "Road Surface Type      object\n",
       "Road Divided By        object\n",
       "Posted Speed          float64\n",
       "Month                   int64\n",
       "dtype: object"
      ]
     },
     "execution_count": 14,
     "metadata": {},
     "output_type": "execute_result"
    }
   ],
   "source": [
    "df1.dtypes"
   ]
  },
  {
   "cell_type": "code",
   "execution_count": 15,
   "metadata": {},
   "outputs": [],
   "source": [
    "from sklearn.model_selection import train_test_split\n",
    "X_train, X_test, y_train, y_test = train_test_split(X, y, test_size=0.2, random_state=0)"
   ]
  },
  {
   "cell_type": "code",
   "execution_count": 16,
   "metadata": {},
   "outputs": [],
   "source": [
    "import catboost as cb\n",
    "train_dataset = cb.Pool(X_train,y_train, cat_features=cat_columns)\n",
    "test_dataset = cb.Pool(X_test,y_test, cat_features=cat_columns)"
   ]
  },
  {
   "cell_type": "code",
   "execution_count": 17,
   "metadata": {},
   "outputs": [],
   "source": [
    "model = cb.CatBoostClassifier(loss_function='Logloss', eval_metric='Accuracy') \n",
    "grid = {'learning_rate': [0.03, 0.1],\n",
    "'depth': [4, 6],\n",
    "'l2_leaf_reg': [1, 3],\n",
    "'iterations': [50]}"
   ]
  },
  {
   "cell_type": "code",
   "execution_count": 18,
   "metadata": {},
   "outputs": [
    {
     "name": "stdout",
     "output_type": "stream",
     "text": [
      "\n",
      "bestTest = 0.7607396871\n",
      "bestIteration = 43\n",
      "\n",
      "0:\tloss: 0.7607397\tbest: 0.7607397 (0)\ttotal: 1.3s\tremaining: 9.12s\n",
      "\n",
      "bestTest = 0.7605974395\n",
      "bestIteration = 47\n",
      "\n",
      "1:\tloss: 0.7605974\tbest: 0.7607397 (0)\ttotal: 2.43s\tremaining: 7.3s\n",
      "\n",
      "bestTest = 0.7607396871\n",
      "bestIteration = 45\n",
      "\n",
      "2:\tloss: 0.7607397\tbest: 0.7607397 (0)\ttotal: 3.56s\tremaining: 5.94s\n",
      "\n",
      "bestTest = 0.7607396871\n",
      "bestIteration = 20\n",
      "\n",
      "3:\tloss: 0.7607397\tbest: 0.7607397 (0)\ttotal: 4.7s\tremaining: 4.7s\n",
      "\n",
      "bestTest = 0.7610241821\n",
      "bestIteration = 29\n",
      "\n",
      "4:\tloss: 0.7610242\tbest: 0.7610242 (4)\ttotal: 6.42s\tremaining: 3.85s\n",
      "\n",
      "bestTest = 0.7611664296\n",
      "bestIteration = 43\n",
      "\n",
      "5:\tloss: 0.7611664\tbest: 0.7611664 (5)\ttotal: 8.25s\tremaining: 2.75s\n",
      "\n",
      "bestTest = 0.7607396871\n",
      "bestIteration = 44\n",
      "\n",
      "6:\tloss: 0.7607397\tbest: 0.7611664 (5)\ttotal: 9.97s\tremaining: 1.42s\n",
      "\n",
      "bestTest = 0.7610241821\n",
      "bestIteration = 12\n",
      "\n",
      "7:\tloss: 0.7610242\tbest: 0.7611664 (5)\ttotal: 11.8s\tremaining: 0us\n",
      "Estimating final quality...\n"
     ]
    },
    {
     "data": {
      "text/plain": [
       "{'loss_function': 'Logloss',\n",
       " 'eval_metric': 'Accuracy',\n",
       " 'depth': 6,\n",
       " 'l2_leaf_reg': 1,\n",
       " 'iterations': 50,\n",
       " 'learning_rate': 0.1}"
      ]
     },
     "execution_count": 18,
     "metadata": {},
     "output_type": "execute_result"
    }
   ],
   "source": [
    "model.grid_search(grid,train_dataset) \n",
    "model.get_params()"
   ]
  },
  {
   "cell_type": "code",
   "execution_count": 19,
   "metadata": {},
   "outputs": [
    {
     "name": "stdout",
     "output_type": "stream",
     "text": [
      "              precision    recall  f1-score   support\n",
      "\n",
      "           0       0.76      0.98      0.86      6499\n",
      "           1       0.68      0.14      0.23      2288\n",
      "\n",
      "    accuracy                           0.76      8787\n",
      "   macro avg       0.72      0.56      0.54      8787\n",
      "weighted avg       0.74      0.76      0.69      8787\n",
      "\n"
     ]
    }
   ],
   "source": [
    "pred = model.predict(X_test)\n",
    "print(classification_report(y_test, pred))"
   ]
  },
  {
   "cell_type": "code",
   "execution_count": 20,
   "metadata": {},
   "outputs": [
    {
     "data": {
      "text/plain": [
       "Text(0.5, 1.0, 'Confusion Matrix of Catboost Model 1')"
      ]
     },
     "execution_count": 20,
     "metadata": {},
     "output_type": "execute_result"
    },
    {
     "data": {
      "image/png": "[encoded data removed]",
      "text/plain": [
       "<Figure size 432x288 with 2 Axes>"
      ]
     },
     "metadata": {
      "needs_background": "light"
     },
     "output_type": "display_data"
    }
   ],
   "source": [
    "ax=sns.heatmap(confusion_matrix(y_test, pred),annot=True, fmt=\".0f\", annot_kws={\"size\": 16})\n",
    "ax.set_title(\"Confusion Matrix of Catboost Model 1\",fontdict= { 'fontsize': 16} )"
   ]
  },
  {
   "cell_type": "code",
   "execution_count": 21,
   "metadata": {},
   "outputs": [
    {
     "data": {
      "text/plain": [
       "Index(['Datetime', 'Number', 'Municipality', 'Date', 'Day of Week', 'Severity',\n",
       "       'Intersection', 'Crash Type', 'Total Vehicles', 'Location',\n",
       "       'Road Horizontal Alignment', 'Road Grade', 'Road Surface Type',\n",
       "       'Surface Condition', 'Light Condition', 'Environment Condition',\n",
       "       'Road Divided By', 'Posted Speed', 'Month', 'Unnamed: 0',\n",
       "       'Vehicle Number_x', 'Driver City_x', 'Driver Sex_x', 'Age_x',\n",
       "       'Vehicle Number_y', 'Driver City_y', 'Driver Sex_y', 'Age_y'],\n",
       "      dtype='object')"
      ]
     },
     "execution_count": 21,
     "metadata": {},
     "output_type": "execute_result"
    }
   ],
   "source": [
    "df2=pd.read_csv('Camden_accidents/Camden_drivers.csv')\n",
    "df3=df.merge(df2, on='Number')\n",
    "df3.columns"
   ]
  },
  {
   "cell_type": "code",
   "execution_count": 22,
   "metadata": {},
   "outputs": [],
   "source": [
    "df3.drop(columns=['Datetime', 'Number', 'Date', 'Day of Week', 'Road Horizontal Alignment','Road Grade', 'Road Surface Type',\n",
    "       'Surface Condition','Unnamed: 0', 'Vehicle Number_x', 'Vehicle Number_y', 'Municipality', 'Driver City_x', 'Driver City_y'], inplace=True)"
   ]
  },
  {
   "cell_type": "code",
   "execution_count": 23,
   "metadata": {},
   "outputs": [
    {
     "data": {
      "text/plain": [
       "Index(['Severity', 'Intersection', 'Crash Type', 'Total Vehicles', 'Location',\n",
       "       'Light Condition', 'Environment Condition', 'Road Divided By',\n",
       "       'Posted Speed', 'Month', 'Driver Sex_x', 'Age_x', 'Driver Sex_y',\n",
       "       'Age_y'],\n",
       "      dtype='object')"
      ]
     },
     "execution_count": 23,
     "metadata": {},
     "output_type": "execute_result"
    }
   ],
   "source": [
    "df3.columns"
   ]
  },
  {
   "cell_type": "code",
   "execution_count": 24,
   "metadata": {},
   "outputs": [
    {
     "name": "stderr",
     "output_type": "stream",
     "text": [
      "<ipython-input-24-d59b770853a3>:1: SettingWithCopyWarning: \n",
      "A value is trying to be set on a copy of a slice from a DataFrame\n",
      "\n",
      "See the caveats in the documentation: https://pandas.pydata.org/pandas-docs/stable/user_guide/indexing.html#returning-a-view-versus-a-copy\n",
      "  df3.Severity[df3.Severity.isin(['I', 'F'])]='1'\n",
      "<ipython-input-24-d59b770853a3>:2: SettingWithCopyWarning: \n",
      "A value is trying to be set on a copy of a slice from a DataFrame\n",
      "\n",
      "See the caveats in the documentation: https://pandas.pydata.org/pandas-docs/stable/user_guide/indexing.html#returning-a-view-versus-a-copy\n",
      "  df3.Severity[df3.Severity.isin(['P'])]='0'\n"
     ]
    }
   ],
   "source": [
    "df3.Severity[df3.Severity.isin(['I', 'F'])]='1'\n",
    "df3.Severity[df3.Severity.isin(['P'])]='0'\n",
    "df3.Severity=df3.Severity.astype('str')"
   ]
  },
  {
   "cell_type": "code",
   "execution_count": 25,
   "metadata": {},
   "outputs": [],
   "source": [
    "cat_columns=['Intersection', 'Crash Type','Total Vehicles', 'Location','Light Condition', 'Environment Condition','Road Divided By',\n",
    "             'Driver Sex_x','Driver Sex_y']"
   ]
  },
  {
   "cell_type": "code",
   "execution_count": 26,
   "metadata": {},
   "outputs": [
    {
     "data": {
      "text/plain": [
       "0        1\n",
       "1        1\n",
       "2        0\n",
       "3        0\n",
       "4        1\n",
       "        ..\n",
       "41680    0\n",
       "41681    0\n",
       "41682    0\n",
       "41683    0\n",
       "41684    0\n",
       "Name: Severity, Length: 41685, dtype: object"
      ]
     },
     "execution_count": 26,
     "metadata": {},
     "output_type": "execute_result"
    }
   ],
   "source": [
    "df3.Severity"
   ]
  },
  {
   "cell_type": "code",
   "execution_count": 27,
   "metadata": {},
   "outputs": [],
   "source": [
    "X=df3.drop('Severity',axis=1)\n",
    "y=df3.Severity"
   ]
  },
  {
   "cell_type": "code",
   "execution_count": 28,
   "metadata": {},
   "outputs": [],
   "source": [
    "X_train, X_test, y_train, y_test = train_test_split(X, y, test_size=0.2, random_state=0)\n",
    "train_dataset = cb.Pool(X_train,y_train, cat_features=cat_columns)\n",
    "test_dataset = cb.Pool(X_test,y_test, cat_features=cat_columns)"
   ]
  },
  {
   "cell_type": "code",
   "execution_count": 29,
   "metadata": {},
   "outputs": [
    {
     "name": "stdout",
     "output_type": "stream",
     "text": [
      "\n",
      "bestTest = 0.751874063\n",
      "bestIteration = 9\n",
      "\n",
      "0:\tloss: 0.7518741\tbest: 0.7518741 (0)\ttotal: 1.22s\tremaining: 8.51s\n",
      "\n",
      "bestTest = 0.7530734633\n",
      "bestIteration = 43\n",
      "\n",
      "1:\tloss: 0.7530735\tbest: 0.7530735 (1)\ttotal: 2.4s\tremaining: 7.21s\n",
      "\n",
      "bestTest = 0.751874063\n",
      "bestIteration = 9\n",
      "\n",
      "2:\tloss: 0.7518741\tbest: 0.7530735 (1)\ttotal: 3.59s\tremaining: 5.98s\n",
      "\n",
      "bestTest = 0.7530734633\n",
      "bestIteration = 49\n",
      "\n",
      "3:\tloss: 0.7530735\tbest: 0.7530735 (1)\ttotal: 4.77s\tremaining: 4.77s\n",
      "\n",
      "bestTest = 0.752023988\n",
      "bestIteration = 18\n",
      "\n",
      "4:\tloss: 0.7520240\tbest: 0.7530735 (1)\ttotal: 6.53s\tremaining: 3.92s\n",
      "\n",
      "bestTest = 0.7535232384\n",
      "bestIteration = 48\n",
      "\n",
      "5:\tloss: 0.7535232\tbest: 0.7535232 (5)\ttotal: 8.29s\tremaining: 2.76s\n",
      "\n",
      "bestTest = 0.751874063\n",
      "bestIteration = 12\n",
      "\n",
      "6:\tloss: 0.7518741\tbest: 0.7535232 (5)\ttotal: 9.97s\tremaining: 1.42s\n",
      "\n",
      "bestTest = 0.7542728636\n",
      "bestIteration = 47\n",
      "\n",
      "7:\tloss: 0.7542729\tbest: 0.7542729 (7)\ttotal: 11.7s\tremaining: 0us\n",
      "Estimating final quality...\n"
     ]
    },
    {
     "data": {
      "text/plain": [
       "{'loss_function': 'Logloss',\n",
       " 'eval_metric': 'Accuracy',\n",
       " 'depth': 6,\n",
       " 'l2_leaf_reg': 3,\n",
       " 'iterations': 50,\n",
       " 'learning_rate': 0.1}"
      ]
     },
     "execution_count": 29,
     "metadata": {},
     "output_type": "execute_result"
    }
   ],
   "source": [
    "model = cb.CatBoostClassifier(loss_function='Logloss', eval_metric='Accuracy') \n",
    "grid = {'learning_rate': [0.03, 0.1],\n",
    "'depth': [4, 6],\n",
    "'l2_leaf_reg': [1, 3],\n",
    "'iterations': [50]}\n",
    "model.grid_search(grid,train_dataset) \n",
    "model.get_params()"
   ]
  },
  {
   "cell_type": "code",
   "execution_count": 30,
   "metadata": {},
   "outputs": [
    {
     "name": "stdout",
     "output_type": "stream",
     "text": [
      "              precision    recall  f1-score   support\n",
      "\n",
      "           0       0.75      0.99      0.85      6130\n",
      "           1       0.71      0.09      0.17      2207\n",
      "\n",
      "    accuracy                           0.75      8337\n",
      "   macro avg       0.73      0.54      0.51      8337\n",
      "weighted avg       0.74      0.75      0.67      8337\n",
      "\n"
     ]
    }
   ],
   "source": [
    "pred = model.predict(X_test)\n",
    "print(classification_report(y_test, pred))"
   ]
  },
  {
   "cell_type": "code",
   "execution_count": 31,
   "metadata": {},
   "outputs": [
    {
     "name": "stdout",
     "output_type": "stream",
     "text": [
      "[[6045   85]\n",
      " [1998  209]]\n"
     ]
    }
   ],
   "source": [
    "\n",
    "print(confusion_matrix(y_test, pred))"
   ]
  },
  {
   "cell_type": "code",
   "execution_count": 32,
   "metadata": {},
   "outputs": [
    {
     "data": {
      "text/plain": [
       "Text(0.5, 1.0, 'Confusion Matrix of Catboost Model 2')"
      ]
     },
     "execution_count": 32,
     "metadata": {},
     "output_type": "execute_result"
    },
    {
     "data": {
      "image/png": "[encoded data removed]",
      "text/plain": [
       "<Figure size 432x288 with 2 Axes>"
      ]
     },
     "metadata": {
      "needs_background": "light"
     },
     "output_type": "display_data"
    }
   ],
   "source": [
    "ax=sns.heatmap(confusion_matrix(y_test, pred),annot=True, fmt=\".0f\", annot_kws={\"size\": 16})\n",
    "ax.set_title(\"Confusion Matrix of Catboost Model 2\",fontdict= { 'fontsize': 16} )"
   ]
  },
  {
   "cell_type": "code",
   "execution_count": 33,
   "metadata": {},
   "outputs": [
    {
     "data": {
      "image/png": "[encoded data removed]",
      "text/plain": [
       "<Figure size 576x482.4 with 1 Axes>"
      ]
     },
     "metadata": {
      "needs_background": "light"
     },
     "output_type": "display_data"
    }
   ],
   "source": [
    "import shap\n",
    "shap_values = shap.TreeExplainer(model).shap_values(X_train)\n",
    "shap.summary_plot(shap_values, X_train, plot_type=\"bar\")"
   ]
  },
  {
   "cell_type": "code",
   "execution_count": 34,
   "metadata": {},
   "outputs": [
    {
     "data": {
      "text/plain": [
       "Index(['Datetime', 'Number', 'Municipality', 'Date', 'Day of Week', 'Severity',\n",
       "       'Intersection', 'Crash Type', 'Total Vehicles', 'Location',\n",
       "       'Road Horizontal Alignment', 'Road Grade', 'Road Surface Type',\n",
       "       'Surface Condition', 'Light Condition', 'Environment Condition',\n",
       "       'Road Divided By', 'Posted Speed', 'Month', 'Unnamed: 0',\n",
       "       'Initial Impact Location_x', 'Principal Damage Location_x',\n",
       "       'Extent of Damage_x', 'Vehicle Type_x', 'Vehicle Use_x', 'V_Age_x',\n",
       "       'Initial Impact Location_y', 'Principal Damage Location_y',\n",
       "       'Extent of Damage_y', 'Vehicle Type_y', 'Vehicle Use_y', 'V_Age_y'],\n",
       "      dtype='object')"
      ]
     },
     "execution_count": 34,
     "metadata": {},
     "output_type": "execute_result"
    }
   ],
   "source": [
    "df4=pd.read_csv('Camden_accidents/Camden_V3.csv')\n",
    "df5=df.merge(df4, on='Number')\n",
    "df5.columns"
   ]
  },
  {
   "cell_type": "code",
   "execution_count": 35,
   "metadata": {},
   "outputs": [],
   "source": [
    "df5.drop(columns=['Datetime', 'Number', 'Date', 'Day of Week', 'Road Horizontal Alignment','Road Grade', 'Road Surface Type',\n",
    "       'Surface Condition','Unnamed: 0', 'Location', 'Light Condition'], inplace=True)"
   ]
  },
  {
   "cell_type": "code",
   "execution_count": 36,
   "metadata": {},
   "outputs": [],
   "source": [
    "df5.dropna(inplace=True)"
   ]
  },
  {
   "cell_type": "code",
   "execution_count": 37,
   "metadata": {},
   "outputs": [],
   "source": [
    "df5[['Initial Impact Location_x','Principal Damage Location_x', 'Vehicle Type_x', 'Vehicle Use_x', \n",
    "                    'Initial Impact Location_y','Principal Damage Location_y', 'Vehicle Type_y', 'Vehicle Use_y']]=df5[['Initial Impact Location_x','Principal Damage Location_x', 'Vehicle Type_x', 'Vehicle Use_x', \n",
    "                    'Initial Impact Location_y','Principal Damage Location_y', 'Vehicle Type_y', 'Vehicle Use_y']].astype('str')"
   ]
  },
  {
   "cell_type": "code",
   "execution_count": 38,
   "metadata": {},
   "outputs": [
    {
     "name": "stderr",
     "output_type": "stream",
     "text": [
      "\n",
      "A value is trying to be set on a copy of a slice from a DataFrame\n",
      "\n",
      "See the caveats in the documentation: https://pandas.pydata.org/pandas-docs/stable/user_guide/indexing.html#returning-a-view-versus-a-copy\n",
      "\n",
      "A value is trying to be set on a copy of a slice from a DataFrame\n",
      "\n",
      "See the caveats in the documentation: https://pandas.pydata.org/pandas-docs/stable/user_guide/indexing.html#returning-a-view-versus-a-copy\n"
     ]
    }
   ],
   "source": [
    "df5.Severity[df5.Severity.isin(['I', 'F'])]='1'\n",
    "df5.Severity[df5.Severity.isin(['P'])]='0'\n",
    "df5.Severity=df5.Severity.astype(int)"
   ]
  },
  {
   "cell_type": "code",
   "execution_count": 39,
   "metadata": {},
   "outputs": [
    {
     "data": {
      "text/plain": [
       "dtype('int32')"
      ]
     },
     "execution_count": 39,
     "metadata": {},
     "output_type": "execute_result"
    }
   ],
   "source": [
    "df5.Severity.dtypes"
   ]
  },
  {
   "cell_type": "code",
   "execution_count": 40,
   "metadata": {},
   "outputs": [
    {
     "data": {
      "text/plain": [
       "Index(['Municipality', 'Severity', 'Intersection', 'Crash Type',\n",
       "       'Total Vehicles', 'Environment Condition', 'Road Divided By',\n",
       "       'Posted Speed', 'Month', 'Initial Impact Location_x',\n",
       "       'Principal Damage Location_x', 'Extent of Damage_x', 'Vehicle Type_x',\n",
       "       'Vehicle Use_x', 'V_Age_x', 'Initial Impact Location_y',\n",
       "       'Principal Damage Location_y', 'Extent of Damage_y', 'Vehicle Type_y',\n",
       "       'Vehicle Use_y', 'V_Age_y'],\n",
       "      dtype='object')"
      ]
     },
     "execution_count": 40,
     "metadata": {},
     "output_type": "execute_result"
    }
   ],
   "source": [
    "df5.columns"
   ]
  },
  {
   "cell_type": "code",
   "execution_count": 41,
   "metadata": {},
   "outputs": [],
   "source": [
    "cat_columns=['Intersection', 'Crash Type', 'Total Vehicles',\n",
    "       'Environment Condition', 'Road Divided By', 'Initial Impact Location_x', 'Principal Damage Location_x',\n",
    "       'Vehicle Type_x', 'Vehicle Use_x','Initial Impact Location_y', 'Principal Damage Location_y',\n",
    "       'Vehicle Type_y', 'Vehicle Use_y','Municipality']"
   ]
  },
  {
   "cell_type": "code",
   "execution_count": 42,
   "metadata": {},
   "outputs": [],
   "source": [
    "X=df5.drop('Severity',axis=1)\n",
    "y=df5.Severity"
   ]
  },
  {
   "cell_type": "code",
   "execution_count": 43,
   "metadata": {},
   "outputs": [],
   "source": [
    "X_train, X_test, y_train, y_test = train_test_split(X, y, test_size=0.2, random_state=0)\n",
    "train_dataset = cb.Pool(X_train,y_train, cat_features=cat_columns)\n",
    "test_dataset = cb.Pool(X_test,y_test, cat_features=cat_columns)"
   ]
  },
  {
   "cell_type": "code",
   "execution_count": 44,
   "metadata": {},
   "outputs": [
    {
     "name": "stdout",
     "output_type": "stream",
     "text": [
      "\n",
      "bestTest = 0.7892804699\n",
      "bestIteration = 31\n",
      "\n",
      "0:\tloss: 0.7892805\tbest: 0.7892805 (0)\ttotal: 1.49s\tremaining: 10.4s\n",
      "\n",
      "bestTest = 0.7929515419\n",
      "bestIteration = 43\n",
      "\n",
      "1:\tloss: 0.7929515\tbest: 0.7929515 (1)\ttotal: 3.02s\tremaining: 9.05s\n",
      "\n",
      "bestTest = 0.7872246696\n",
      "bestIteration = 41\n",
      "\n",
      "2:\tloss: 0.7872247\tbest: 0.7929515 (1)\ttotal: 4.52s\tremaining: 7.54s\n",
      "\n",
      "bestTest = 0.7919236417\n",
      "bestIteration = 37\n",
      "\n",
      "3:\tloss: 0.7919236\tbest: 0.7929515 (1)\ttotal: 6.11s\tremaining: 6.11s\n",
      "\n",
      "bestTest = 0.7901615272\n",
      "bestIteration = 48\n",
      "\n",
      "4:\tloss: 0.7901615\tbest: 0.7929515 (1)\ttotal: 8.19s\tremaining: 4.91s\n",
      "\n",
      "bestTest = 0.7945668135\n",
      "bestIteration = 48\n",
      "\n",
      "5:\tloss: 0.7945668\tbest: 0.7945668 (5)\ttotal: 10.3s\tremaining: 3.43s\n",
      "\n",
      "bestTest = 0.7895741557\n",
      "bestIteration = 32\n",
      "\n",
      "6:\tloss: 0.7895742\tbest: 0.7945668 (5)\ttotal: 12.4s\tremaining: 1.77s\n",
      "\n",
      "bestTest = 0.795154185\n",
      "bestIteration = 48\n",
      "\n",
      "7:\tloss: 0.7951542\tbest: 0.7951542 (7)\ttotal: 14.5s\tremaining: 0us\n",
      "Estimating final quality...\n"
     ]
    },
    {
     "data": {
      "text/plain": [
       "{'loss_function': 'Logloss',\n",
       " 'eval_metric': 'Accuracy',\n",
       " 'depth': 6,\n",
       " 'l2_leaf_reg': 3,\n",
       " 'iterations': 50,\n",
       " 'learning_rate': 0.1}"
      ]
     },
     "execution_count": 44,
     "metadata": {},
     "output_type": "execute_result"
    }
   ],
   "source": [
    "model = cb.CatBoostClassifier(loss_function='Logloss', eval_metric='Accuracy') \n",
    "grid = {'learning_rate': [0.03, 0.1],\n",
    "'depth': [4, 6],\n",
    "'l2_leaf_reg': [1, 3],\n",
    "'iterations': [50]}\n",
    "model.grid_search(grid,train_dataset) \n",
    "model.get_params()"
   ]
  },
  {
   "cell_type": "code",
   "execution_count": 45,
   "metadata": {},
   "outputs": [
    {
     "name": "stdout",
     "output_type": "stream",
     "text": [
      "              precision    recall  f1-score   support\n",
      "\n",
      "           0       0.79      0.95      0.86      6248\n",
      "           1       0.69      0.32      0.44      2264\n",
      "\n",
      "    accuracy                           0.78      8512\n",
      "   macro avg       0.74      0.64      0.65      8512\n",
      "weighted avg       0.77      0.78      0.75      8512\n",
      "\n"
     ]
    }
   ],
   "source": [
    "pred = model.predict(X_test)\n",
    "print(classification_report(y_test, pred))"
   ]
  },
  {
   "cell_type": "code",
   "execution_count": 46,
   "metadata": {},
   "outputs": [
    {
     "data": {
      "text/plain": [
       "Text(0.5, 1.0, 'Confusion Matrix of Catboost Model 3')"
      ]
     },
     "execution_count": 46,
     "metadata": {},
     "output_type": "execute_result"
    },
    {
     "data": {
      "image/png": "[encoded data removed]",
      "text/plain": [
       "<Figure size 432x288 with 2 Axes>"
      ]
     },
     "metadata": {
      "needs_background": "light"
     },
     "output_type": "display_data"
    }
   ],
   "source": [
    "ax=sns.heatmap(confusion_matrix(y_test, pred),annot=True, fmt=\".0f\", annot_kws={\"size\": 16})\n",
    "ax.set_title(\"Confusion Matrix of Catboost Model 3\",fontdict= { 'fontsize': 16} )"
   ]
  },
  {
   "cell_type": "code",
   "execution_count": 47,
   "metadata": {},
   "outputs": [
    {
     "data": {
      "text/plain": [
       "0    31481\n",
       "1    11077\n",
       "Name: Severity, dtype: int64"
      ]
     },
     "execution_count": 47,
     "metadata": {},
     "output_type": "execute_result"
    }
   ],
   "source": [
    "y.value_counts()"
   ]
  },
  {
   "cell_type": "code",
   "execution_count": 48,
   "metadata": {},
   "outputs": [
    {
     "data": {
      "image/png": "[encoded data removed]",
      "text/plain": [
       "<Figure size 432x288 with 1 Axes>"
      ]
     },
     "metadata": {
      "needs_background": "light"
     },
     "output_type": "display_data"
    }
   ],
   "source": [
    "import sklearn.metrics as metrics\n",
    "probs = model.predict_proba(X_test)\n",
    "preds = probs[:,1]\n",
    "fpr, tpr, threshold = metrics.roc_curve(y_test, preds)\n",
    "roc_auc = metrics.auc(fpr, tpr)\n",
    "\n",
    "# method I: plt\n",
    "plt.title('ROC Curve of Model 3')\n",
    "plt.plot(fpr, tpr, 'b', label = 'AUC = %0.2f' % roc_auc)\n",
    "plt.legend(loc = 'lower right')\n",
    "plt.plot([0, 1], [0, 1],'r--')\n",
    "plt.xlim([0, 1])\n",
    "plt.ylim([0, 1])\n",
    "plt.ylabel('True Positive Rate')\n",
    "plt.xlabel('False Positive Rate')\n",
    "plt.show()\n",
    "\n"
   ]
  },
  {
   "cell_type": "code",
   "execution_count": 49,
   "metadata": {},
   "outputs": [
    {
     "data": {
      "image/png": "[encoded data removed]",
      "text/plain": [
       "<Figure size 576x684 with 1 Axes>"
      ]
     },
     "metadata": {
      "needs_background": "light"
     },
     "output_type": "display_data"
    }
   ],
   "source": [
    "import shap\n",
    "shap_values = shap.TreeExplainer(model).shap_values(X_train)\n",
    "shap.summary_plot(shap_values, X_train, plot_type=\"bar\")"
   ]
  }
 ],
 "metadata": {
  "kernelspec": {
   "display_name": "Python 3",
   "language": "python",
   "name": "python3"
  },
  "language_info": {
   "codemirror_mode": {
    "name": "ipython",
    "version": 3
   },
   "file_extension": ".py",
   "mimetype": "text/x-python",
   "name": "python",
   "nbconvert_exporter": "python",
   "pygments_lexer": "ipython3",
   "version": "3.8.3"
  }
 },
 "nbformat": 4,
 "nbformat_minor": 4
}
