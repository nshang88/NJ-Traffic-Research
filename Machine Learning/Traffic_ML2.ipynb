{
 "cells": [
  {
   "cell_type": "code",
   "execution_count": 32,
   "metadata": {},
   "outputs": [],
   "source": [
    "import pandas as pd\n",
    "import numpy as np\n",
    "import matplotlib.pyplot as plt\n",
    "import seaborn as sns\n",
    "from imblearn.over_sampling import SMOTE"
   ]
  },
  {
   "cell_type": "code",
   "execution_count": 33,
   "metadata": {},
   "outputs": [
    {
     "data": {
      "text/plain": [
       "Datetime                      object\n",
       "Number                        object\n",
       "Municipality                  object\n",
       "Date                          object\n",
       "Day of Week                   object\n",
       "Severity                      object\n",
       "Intersection                  object\n",
       "Crash Type                     int64\n",
       "Total Vehicles               float64\n",
       "Location                      object\n",
       "Road Horizontal Alignment    float64\n",
       "Road Grade                   float64\n",
       "Road Surface Type            float64\n",
       "Surface Condition            float64\n",
       "Light Condition              float64\n",
       "Environment Condition        float64\n",
       "Road Divided By              float64\n",
       "Posted Speed                 float64\n",
       "Month                          int64\n",
       "dtype: object"
      ]
     },
     "execution_count": 33,
     "metadata": {},
     "output_type": "execute_result"
    }
   ],
   "source": [
    "df=pd.read_csv('Camden_accidents/Camden_accidents2.csv')\n",
    "df.dtypes"
   ]
  },
  {
   "cell_type": "code",
   "execution_count": 34,
   "metadata": {},
   "outputs": [],
   "source": [
    "df.loc[df.Severity=='F', 'Severity']='1'\n",
    "df.loc[df['Severity']=='I', 'Severity']='1'\n",
    "df.loc[df['Severity']=='P', 'Severity']='0'"
   ]
  },
  {
   "cell_type": "code",
   "execution_count": 35,
   "metadata": {},
   "outputs": [],
   "source": [
    "df.drop(columns=['Datetime', 'Date', 'Day of Week', 'Location', 'Road Horizontal Alignment', 'Road Grade', 'Road Surface Type',\n",
    "                'Surface Condition', 'Light Condition', 'Road Divided By', 'Posted Speed', 'Month', 'Environment Condition'], inplace=True)"
   ]
  },
  {
   "cell_type": "code",
   "execution_count": 36,
   "metadata": {},
   "outputs": [
    {
     "data": {
      "text/html": [
       "<div>\n",
       "<style scoped>\n",
       "    .dataframe tbody tr th:only-of-type {\n",
       "        vertical-align: middle;\n",
       "    }\n",
       "\n",
       "    .dataframe tbody tr th {\n",
       "        vertical-align: top;\n",
       "    }\n",
       "\n",
       "    .dataframe thead th {\n",
       "        text-align: right;\n",
       "    }\n",
       "</style>\n",
       "<table border=\"1\" class=\"dataframe\">\n",
       "  <thead>\n",
       "    <tr style=\"text-align: right;\">\n",
       "      <th></th>\n",
       "      <th>Unnamed: 0</th>\n",
       "      <th>Number</th>\n",
       "      <th>Initial Impact Location_x</th>\n",
       "      <th>Principal Damage Location_x</th>\n",
       "      <th>Extent of Damage_x</th>\n",
       "      <th>Vehicle Type_x</th>\n",
       "      <th>Vehicle Use_x</th>\n",
       "      <th>V_Age_x</th>\n",
       "      <th>Initial Impact Location_y</th>\n",
       "      <th>Principal Damage Location_y</th>\n",
       "      <th>Extent of Damage_y</th>\n",
       "      <th>Vehicle Type_y</th>\n",
       "      <th>Vehicle Use_y</th>\n",
       "      <th>V_Age_y</th>\n",
       "    </tr>\n",
       "  </thead>\n",
       "  <tbody>\n",
       "    <tr>\n",
       "      <th>0</th>\n",
       "      <td>0</td>\n",
       "      <td>2017040217-036-A</td>\n",
       "      <td>6.0</td>\n",
       "      <td>6.0</td>\n",
       "      <td>2</td>\n",
       "      <td>1.0</td>\n",
       "      <td>1.0</td>\n",
       "      <td>10.0</td>\n",
       "      <td>6.0</td>\n",
       "      <td>6.0</td>\n",
       "      <td>2</td>\n",
       "      <td>1.0</td>\n",
       "      <td>1.0</td>\n",
       "      <td>10.0</td>\n",
       "    </tr>\n",
       "    <tr>\n",
       "      <th>1</th>\n",
       "      <td>1</td>\n",
       "      <td>2017040217-067-A</td>\n",
       "      <td>3.0</td>\n",
       "      <td>4.0</td>\n",
       "      <td>4</td>\n",
       "      <td>4.0</td>\n",
       "      <td>1.0</td>\n",
       "      <td>6.0</td>\n",
       "      <td>12.0</td>\n",
       "      <td>12.0</td>\n",
       "      <td>4</td>\n",
       "      <td>1.0</td>\n",
       "      <td>1.0</td>\n",
       "      <td>12.0</td>\n",
       "    </tr>\n",
       "    <tr>\n",
       "      <th>2</th>\n",
       "      <td>2</td>\n",
       "      <td>2017040217-161-A</td>\n",
       "      <td>12.0</td>\n",
       "      <td>12.0</td>\n",
       "      <td>2</td>\n",
       "      <td>1.0</td>\n",
       "      <td>1.0</td>\n",
       "      <td>1.0</td>\n",
       "      <td>6.0</td>\n",
       "      <td>3.0</td>\n",
       "      <td>4</td>\n",
       "      <td>8.0</td>\n",
       "      <td>1.0</td>\n",
       "      <td>10.0</td>\n",
       "    </tr>\n",
       "    <tr>\n",
       "      <th>3</th>\n",
       "      <td>3</td>\n",
       "      <td>2017040217-194-A</td>\n",
       "      <td>2.0</td>\n",
       "      <td>2.0</td>\n",
       "      <td>3</td>\n",
       "      <td>1.0</td>\n",
       "      <td>1.0</td>\n",
       "      <td>16.0</td>\n",
       "      <td>7.0</td>\n",
       "      <td>17.0</td>\n",
       "      <td>2</td>\n",
       "      <td>31.0</td>\n",
       "      <td>1.0</td>\n",
       "      <td>9.0</td>\n",
       "    </tr>\n",
       "    <tr>\n",
       "      <th>4</th>\n",
       "      <td>4</td>\n",
       "      <td>2017040217-280-A</td>\n",
       "      <td>12.0</td>\n",
       "      <td>12.0</td>\n",
       "      <td>4</td>\n",
       "      <td>1.0</td>\n",
       "      <td>2.0</td>\n",
       "      <td>8.0</td>\n",
       "      <td>6.0</td>\n",
       "      <td>6.0</td>\n",
       "      <td>2</td>\n",
       "      <td>5.0</td>\n",
       "      <td>1.0</td>\n",
       "      <td>17.0</td>\n",
       "    </tr>\n",
       "  </tbody>\n",
       "</table>\n",
       "</div>"
      ],
      "text/plain": [
       "   Unnamed: 0                           Number  Initial Impact Location_x  \\\n",
       "0           0  2017040217-036-A                                       6.0   \n",
       "1           1  2017040217-067-A                                       3.0   \n",
       "2           2  2017040217-161-A                                      12.0   \n",
       "3           3  2017040217-194-A                                       2.0   \n",
       "4           4  2017040217-280-A                                      12.0   \n",
       "\n",
       "   Principal Damage Location_x  Extent of Damage_x  Vehicle Type_x  \\\n",
       "0                          6.0                   2             1.0   \n",
       "1                          4.0                   4             4.0   \n",
       "2                         12.0                   2             1.0   \n",
       "3                          2.0                   3             1.0   \n",
       "4                         12.0                   4             1.0   \n",
       "\n",
       "   Vehicle Use_x  V_Age_x  Initial Impact Location_y  \\\n",
       "0            1.0     10.0                        6.0   \n",
       "1            1.0      6.0                       12.0   \n",
       "2            1.0      1.0                        6.0   \n",
       "3            1.0     16.0                        7.0   \n",
       "4            2.0      8.0                        6.0   \n",
       "\n",
       "   Principal Damage Location_y  Extent of Damage_y  Vehicle Type_y  \\\n",
       "0                          6.0                   2             1.0   \n",
       "1                         12.0                   4             1.0   \n",
       "2                          3.0                   4             8.0   \n",
       "3                         17.0                   2            31.0   \n",
       "4                          6.0                   2             5.0   \n",
       "\n",
       "   Vehicle Use_y  V_Age_y  \n",
       "0            1.0     10.0  \n",
       "1            1.0     12.0  \n",
       "2            1.0     10.0  \n",
       "3            1.0      9.0  \n",
       "4            1.0     17.0  "
      ]
     },
     "execution_count": 36,
     "metadata": {},
     "output_type": "execute_result"
    }
   ],
   "source": [
    "df2=pd.read_csv('Camden_accidents/Camden_V3.csv')\n",
    "df2.head()"
   ]
  },
  {
   "cell_type": "code",
   "execution_count": 37,
   "metadata": {},
   "outputs": [],
   "source": [
    "df2.drop(columns=['Unnamed: 0', 'Vehicle Use_x', 'V_Age_x', 'Vehicle Use_y', 'V_Age_y'], inplace=True)"
   ]
  },
  {
   "cell_type": "code",
   "execution_count": 38,
   "metadata": {},
   "outputs": [],
   "source": [
    "df2.dropna(inplace=True)"
   ]
  },
  {
   "cell_type": "code",
   "execution_count": 39,
   "metadata": {},
   "outputs": [],
   "source": [
    "df3=df.merge(df2, on='Number')"
   ]
  },
  {
   "cell_type": "code",
   "execution_count": 40,
   "metadata": {},
   "outputs": [],
   "source": [
    "list=['Municipality','Intersection', 'Severity','Crash Type','Total Vehicles', 'Initial Impact Location_x','Principal Damage Location_x', 'Extent of Damage_x', 'Vehicle Type_x',\n",
    "       'Initial Impact Location_y', 'Principal Damage Location_y','Extent of Damage_y', 'Vehicle Type_y']\n",
    "for column in list:\n",
    "    df3[column]=df3[column].astype('category')"
   ]
  },
  {
   "cell_type": "code",
   "execution_count": 41,
   "metadata": {},
   "outputs": [
    {
     "data": {
      "text/plain": [
       "Number                           object\n",
       "Municipality                   category\n",
       "Severity                       category\n",
       "Intersection                   category\n",
       "Crash Type                     category\n",
       "Total Vehicles                 category\n",
       "Initial Impact Location_x      category\n",
       "Principal Damage Location_x    category\n",
       "Extent of Damage_x             category\n",
       "Vehicle Type_x                 category\n",
       "Initial Impact Location_y      category\n",
       "Principal Damage Location_y    category\n",
       "Extent of Damage_y             category\n",
       "Vehicle Type_y                 category\n",
       "dtype: object"
      ]
     },
     "execution_count": 41,
     "metadata": {},
     "output_type": "execute_result"
    }
   ],
   "source": [
    "df3.dtypes"
   ]
  },
  {
   "cell_type": "code",
   "execution_count": 42,
   "metadata": {},
   "outputs": [],
   "source": [
    "df3.drop(columns=['Number'], inplace=True)\n",
    "X=df3.drop('Severity',axis=1)\n",
    "y=df3.Severity"
   ]
  },
  {
   "cell_type": "code",
   "execution_count": 43,
   "metadata": {},
   "outputs": [
    {
     "name": "stderr",
     "output_type": "stream",
     "text": [
      "is_categorical is deprecated and will be removed in a future version.  Use is_categorical_dtype instead\n"
     ]
    }
   ],
   "source": [
    "import category_encoders as ce\n",
    "\n",
    "encoder = ce.BinaryEncoder()\n",
    "X_binary=encoder.fit_transform(X)"
   ]
  },
  {
   "cell_type": "code",
   "execution_count": 44,
   "metadata": {},
   "outputs": [],
   "source": [
    "from sklearn.model_selection import train_test_split\n",
    "X_train, X_test, y_train, y_test = train_test_split(X_binary, y, test_size=0.2, random_state=0)"
   ]
  },
  {
   "cell_type": "code",
   "execution_count": 45,
   "metadata": {},
   "outputs": [
    {
     "data": {
      "text/plain": [
       "0    25312\n",
       "1     8807\n",
       "Name: Severity, dtype: int64"
      ]
     },
     "execution_count": 45,
     "metadata": {},
     "output_type": "execute_result"
    }
   ],
   "source": [
    "y_train.value_counts()"
   ]
  },
  {
   "cell_type": "code",
   "execution_count": 46,
   "metadata": {},
   "outputs": [],
   "source": [
    "from sklearn.metrics import confusion_matrix\n",
    "from sklearn.metrics import classification_report "
   ]
  },
  {
   "cell_type": "code",
   "execution_count": 47,
   "metadata": {},
   "outputs": [
    {
     "name": "stdout",
     "output_type": "stream",
     "text": [
      "[[5708  532]\n",
      " [1469  821]]\n"
     ]
    }
   ],
   "source": [
    "from sklearn.ensemble import RandomForestClassifier\n",
    "clf = RandomForestClassifier(n_estimators=100, random_state = 1,n_jobs=-1)\n",
    "model_res = clf.fit(X_train, y_train)\n",
    "y_pred = model_res.predict(X_test)\n",
    "y_pred_prob = model_res.predict_proba(X_test)\n",
    "lr_probs = y_pred_prob[:,1]\n",
    "print(confusion_matrix(y_test, y_pred))"
   ]
  },
  {
   "cell_type": "code",
   "execution_count": 48,
   "metadata": {},
   "outputs": [
    {
     "name": "stdout",
     "output_type": "stream",
     "text": [
      "              precision    recall  f1-score   support\n",
      "\n",
      "           0       0.80      0.91      0.85      6240\n",
      "           1       0.61      0.36      0.45      2290\n",
      "\n",
      "    accuracy                           0.77      8530\n",
      "   macro avg       0.70      0.64      0.65      8530\n",
      "weighted avg       0.74      0.77      0.74      8530\n",
      "\n"
     ]
    }
   ],
   "source": [
    "print(classification_report(y_test, y_pred))"
   ]
  },
  {
   "cell_type": "code",
   "execution_count": 49,
   "metadata": {},
   "outputs": [
    {
     "data": {
      "text/plain": [
       "Text(0.5, 1.0, 'Confusion Matrix of Random Forest Model 1')"
      ]
     },
     "execution_count": 49,
     "metadata": {},
     "output_type": "execute_result"
    },
    {
     "data": {
      "image/png": "[encoded data removed]",
      "text/plain": [
       "<Figure size 432x288 with 2 Axes>"
      ]
     },
     "metadata": {
      "needs_background": "light"
     },
     "output_type": "display_data"
    }
   ],
   "source": [
    "ax=sns.heatmap(confusion_matrix(y_test, y_pred),annot=True, fmt=\".0f\", annot_kws={\"size\": 16})\n",
    "ax.set_title(\"Confusion Matrix of Random Forest Model 1\",fontdict= { 'fontsize': 16} )"
   ]
  },
  {
   "cell_type": "code",
   "execution_count": 50,
   "metadata": {},
   "outputs": [
    {
     "name": "stdout",
     "output_type": "stream",
     "text": [
      "Learning rate:  0.05\n",
      "Accuracy score (training): 0.742\n",
      "Accuracy score (validation): 0.732\n",
      "\n",
      "Learning rate:  0.1\n",
      "Accuracy score (training): 0.742\n",
      "Accuracy score (validation): 0.732\n",
      "\n",
      "Learning rate:  0.25\n",
      "Accuracy score (training): 0.745\n",
      "Accuracy score (validation): 0.735\n",
      "\n",
      "Learning rate:  0.5\n",
      "Accuracy score (training): 0.760\n",
      "Accuracy score (validation): 0.752\n",
      "\n",
      "Learning rate:  0.75\n",
      "Accuracy score (training): 0.763\n",
      "Accuracy score (validation): 0.757\n",
      "\n",
      "Learning rate:  1\n",
      "Accuracy score (training): 0.764\n",
      "Accuracy score (validation): 0.756\n",
      "\n"
     ]
    }
   ],
   "source": [
    "from sklearn.ensemble import GradientBoostingClassifier\n",
    "learning_rates = [0.05, 0.1, 0.25, 0.5, 0.75, 1]\n",
    "for learning_rate in learning_rates:\n",
    "    gb = GradientBoostingClassifier(n_estimators=20, learning_rate = learning_rate, max_features=2, max_depth = 2, random_state = 0)\n",
    "    gb.fit(X_train, y_train)\n",
    "    print(\"Learning rate: \", learning_rate)\n",
    "    print(\"Accuracy score (training): {0:.3f}\".format(gb.score(X_train, y_train)))\n",
    "    print(\"Accuracy score (validation): {0:.3f}\".format(gb.score(X_test, y_test)))\n",
    "    print()"
   ]
  },
  {
   "cell_type": "code",
   "execution_count": 51,
   "metadata": {},
   "outputs": [
    {
     "data": {
      "text/plain": [
       "array([[5902,  338],\n",
       "       [1740,  550]], dtype=int64)"
      ]
     },
     "execution_count": 51,
     "metadata": {},
     "output_type": "execute_result"
    }
   ],
   "source": [
    "gb = GradientBoostingClassifier(n_estimators=20, learning_rate = 1, max_features=2, max_depth = 2, random_state = 0)\n",
    "gb.fit(X_train, y_train)\n",
    "y_pred=gb.predict(X_test)\n",
    "confusion_matrix(y_test, y_pred)"
   ]
  },
  {
   "cell_type": "code",
   "execution_count": 52,
   "metadata": {},
   "outputs": [
    {
     "name": "stdout",
     "output_type": "stream",
     "text": [
      "              precision    recall  f1-score   support\n",
      "\n",
      "           0       0.77      0.95      0.85      6240\n",
      "           1       0.62      0.24      0.35      2290\n",
      "\n",
      "    accuracy                           0.76      8530\n",
      "   macro avg       0.70      0.59      0.60      8530\n",
      "weighted avg       0.73      0.76      0.71      8530\n",
      "\n"
     ]
    }
   ],
   "source": [
    "print(classification_report(y_test, y_pred))"
   ]
  },
  {
   "cell_type": "code",
   "execution_count": 53,
   "metadata": {},
   "outputs": [
    {
     "data": {
      "text/plain": [
       "Text(0.5, 1.0, 'Confusion Matrix of Gradient Boosting Model 1')"
      ]
     },
     "execution_count": 53,
     "metadata": {},
     "output_type": "execute_result"
    },
    {
     "data": {
      "image/png": "[encoded data removed]",
      "text/plain": [
       "<Figure size 432x288 with 2 Axes>"
      ]
     },
     "metadata": {
      "needs_background": "light"
     },
     "output_type": "display_data"
    }
   ],
   "source": [
    "ax=sns.heatmap(confusion_matrix(y_test, y_pred),annot=True, fmt=\".0f\", annot_kws={\"size\": 16})\n",
    "ax.set_title(\"Confusion Matrix of Gradient Boosting Model 1\",fontdict= { 'fontsize': 16} )"
   ]
  },
  {
   "cell_type": "code",
   "execution_count": 54,
   "metadata": {},
   "outputs": [
    {
     "data": {
      "image/png": "[encoded data removed]",
      "text/plain": [
       "<Figure size 576x684 with 1 Axes>"
      ]
     },
     "metadata": {
      "needs_background": "light"
     },
     "output_type": "display_data"
    }
   ],
   "source": [
    "import shap\n",
    "shap_values = shap.TreeExplainer(gb).shap_values(X_train)\n",
    "shap.summary_plot(shap_values, X_train, plot_type=\"bar\")"
   ]
  },
  {
   "cell_type": "code",
   "execution_count": null,
   "metadata": {},
   "outputs": [],
   "source": []
  },
  {
   "cell_type": "code",
   "execution_count": 55,
   "metadata": {},
   "outputs": [
    {
     "name": "stdout",
     "output_type": "stream",
     "text": [
      "After OverSampling, the shape of train_X: (50624, 60)\n",
      "After OverSampling, the shape of train_y: (50624,) \n",
      "\n",
      "After OverSampling, counts of label '1': 0\n",
      "After OverSampling, counts of label '0': 0\n"
     ]
    }
   ],
   "source": [
    "sm = SMOTE(random_state = 2)\n",
    "X_train_res, y_train_res = sm.fit_resample(X_train, y_train.ravel())\n",
    "  \n",
    "print('After OverSampling, the shape of train_X: {}'.format(X_train_res.shape))\n",
    "print('After OverSampling, the shape of train_y: {} \\n'.format(y_train_res.shape))\n",
    "  \n",
    "print(\"After OverSampling, counts of label '1': {}\".format(sum(y_train_res == 1)))\n",
    "print(\"After OverSampling, counts of label '0': {}\".format(sum(y_train_res == 0)))"
   ]
  },
  {
   "cell_type": "code",
   "execution_count": 56,
   "metadata": {},
   "outputs": [
    {
     "name": "stdout",
     "output_type": "stream",
     "text": [
      "Learning rate:  0.05\n",
      "Accuracy score (training): 0.630\n",
      "Accuracy score (validation): 0.644\n",
      "\n",
      "Learning rate:  0.1\n",
      "Accuracy score (training): 0.633\n",
      "Accuracy score (validation): 0.645\n",
      "\n",
      "Learning rate:  0.25\n",
      "Accuracy score (training): 0.651\n",
      "Accuracy score (validation): 0.661\n",
      "\n",
      "Learning rate:  0.5\n",
      "Accuracy score (training): 0.662\n",
      "Accuracy score (validation): 0.673\n",
      "\n",
      "Learning rate:  0.75\n",
      "Accuracy score (training): 0.663\n",
      "Accuracy score (validation): 0.670\n",
      "\n",
      "Learning rate:  1\n",
      "Accuracy score (training): 0.656\n",
      "Accuracy score (validation): 0.666\n",
      "\n"
     ]
    },
    {
     "data": {
      "text/plain": [
       "array([[4235, 2005],\n",
       "       [ 843, 1447]], dtype=int64)"
      ]
     },
     "execution_count": 56,
     "metadata": {},
     "output_type": "execute_result"
    }
   ],
   "source": [
    "learning_rates = [0.05, 0.1, 0.25, 0.5, 0.75, 1]\n",
    "for learning_rate in learning_rates:\n",
    "    gb = GradientBoostingClassifier(n_estimators=20, learning_rate = learning_rate, max_features=2, max_depth = 2, random_state = 0)\n",
    "    gb.fit(X_train_res, y_train_res)\n",
    "    print(\"Learning rate: \", learning_rate)\n",
    "    print(\"Accuracy score (training): {0:.3f}\".format(gb.score(X_train, y_train)))\n",
    "    print(\"Accuracy score (validation): {0:.3f}\".format(gb.score(X_test, y_test)))\n",
    "    print()\n",
    "gb = GradientBoostingClassifier(n_estimators=20, learning_rate = 1, max_features=2, max_depth = 2, random_state = 0)\n",
    "gb.fit(X_train_res, y_train_res)\n",
    "y_pred=gb.predict(X_test)\n",
    "confusion_matrix(y_test, y_pred)\n"
   ]
  },
  {
   "cell_type": "code",
   "execution_count": 57,
   "metadata": {},
   "outputs": [
    {
     "name": "stdout",
     "output_type": "stream",
     "text": [
      "              precision    recall  f1-score   support\n",
      "\n",
      "           0       0.83      0.68      0.75      6240\n",
      "           1       0.42      0.63      0.50      2290\n",
      "\n",
      "    accuracy                           0.67      8530\n",
      "   macro avg       0.63      0.66      0.63      8530\n",
      "weighted avg       0.72      0.67      0.68      8530\n",
      "\n"
     ]
    }
   ],
   "source": [
    "print(classification_report(y_test, y_pred))"
   ]
  },
  {
   "cell_type": "code",
   "execution_count": 58,
   "metadata": {},
   "outputs": [
    {
     "data": {
      "text/plain": [
       "Text(0.5, 1.0, 'Confusion Matrix of Gradient Boosting Model 2')"
      ]
     },
     "execution_count": 58,
     "metadata": {},
     "output_type": "execute_result"
    },
    {
     "data": {
      "image/png": "[encoded data removed]",
      "text/plain": [
       "<Figure size 432x288 with 2 Axes>"
      ]
     },
     "metadata": {
      "needs_background": "light"
     },
     "output_type": "display_data"
    }
   ],
   "source": [
    "ax=sns.heatmap(confusion_matrix(y_test, y_pred),annot=True, fmt=\".0f\", annot_kws={\"size\": 16})\n",
    "ax.set_title(\"Confusion Matrix of Gradient Boosting Model 2\",fontdict= { 'fontsize': 12} )"
   ]
  },
  {
   "cell_type": "code",
   "execution_count": 59,
   "metadata": {},
   "outputs": [
    {
     "name": "stdout",
     "output_type": "stream",
     "text": [
      "[[4888 1352]\n",
      " [1033 1257]]\n"
     ]
    }
   ],
   "source": [
    "clf = RandomForestClassifier(n_estimators=100, random_state = 1,n_jobs=-1)\n",
    "model_res = clf.fit(X_train_res, y_train_res)\n",
    "y_pred = model_res.predict(X_test)\n",
    "y_pred_prob = model_res.predict_proba(X_test)\n",
    "lr_probs = y_pred_prob[:,1]\n",
    "print(confusion_matrix(y_test, y_pred))"
   ]
  },
  {
   "cell_type": "code",
   "execution_count": 60,
   "metadata": {},
   "outputs": [
    {
     "name": "stdout",
     "output_type": "stream",
     "text": [
      "              precision    recall  f1-score   support\n",
      "\n",
      "           0       0.83      0.78      0.80      6240\n",
      "           1       0.48      0.55      0.51      2290\n",
      "\n",
      "    accuracy                           0.72      8530\n",
      "   macro avg       0.65      0.67      0.66      8530\n",
      "weighted avg       0.73      0.72      0.73      8530\n",
      "\n"
     ]
    }
   ],
   "source": [
    "print(classification_report(y_test, y_pred))"
   ]
  },
  {
   "cell_type": "code",
   "execution_count": 61,
   "metadata": {},
   "outputs": [
    {
     "data": {
      "text/plain": [
       "Text(0.5, 1.0, 'Confusion Matrix of Random Forest Model 2')"
      ]
     },
     "execution_count": 61,
     "metadata": {},
     "output_type": "execute_result"
    },
    {
     "data": {
      "image/png": "[encoded data removed]",
      "text/plain": [
       "<Figure size 432x288 with 2 Axes>"
      ]
     },
     "metadata": {
      "needs_background": "light"
     },
     "output_type": "display_data"
    }
   ],
   "source": [
    "ax=sns.heatmap(confusion_matrix(y_test, y_pred),annot=True, fmt=\".0f\", annot_kws={\"size\": 16})\n",
    "ax.set_title(\"Confusion Matrix of Random Forest Model 2\",fontdict= { 'fontsize': 12} )"
   ]
  },
  {
   "cell_type": "code",
   "execution_count": 63,
   "metadata": {},
   "outputs": [
    {
     "name": "stdout",
     "output_type": "stream",
     "text": [
      "10\n"
     ]
    },
    {
     "data": {
      "image/png": "[encoded data removed]",
      "text/plain": [
       "<Figure size 720x720 with 1 Axes>"
      ]
     },
     "metadata": {
      "needs_background": "light"
     },
     "output_type": "display_data"
    }
   ],
   "source": [
    "feature_importance = clf.feature_importances_\n",
    "feature_importance = 100.0 * (feature_importance / feature_importance.max())[:10]\n",
    "sorted_idx = np.argsort(feature_importance)[:10]\n",
    "pos = np.arange(sorted_idx.shape[0]) + .5\n",
    "print(pos.size)\n",
    "sorted_idx.size\n",
    "plt.figure(figsize=(10,10))\n",
    "plt.barh(pos, feature_importance[sorted_idx], align='center')\n",
    "plt.yticks(pos, X.columns[sorted_idx])\n",
    "plt.xlabel('Relative Importance')\n",
    "plt.title('Variable Importance')\n",
    "plt.show()"
   ]
  }
 ],
 "metadata": {
  "kernelspec": {
   "display_name": "Python 3",
   "language": "python",
   "name": "python3"
  }
 },
 "nbformat": 4,
 "nbformat_minor": 4
}
